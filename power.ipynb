{
 "cells": [
  {
   "cell_type": "markdown",
   "id": "b1b5d2da",
   "metadata": {},
   "source": [
    "# Predicting the power consumption trend"
   ]
  },
  {
   "cell_type": "code",
   "execution_count": 48,
   "id": "3a059a4d",
   "metadata": {},
   "outputs": [],
   "source": [
    "import tensorflow as tf\n",
    "import numpy as np\n",
    "import matplotlib.pyplot as plt\n",
    "import pandas as pd"
   ]
  },
  {
   "cell_type": "code",
   "execution_count": 49,
   "id": "76d26aac",
   "metadata": {},
   "outputs": [
    {
     "data": {
      "text/html": [
       "<div>\n",
       "<style scoped>\n",
       "    .dataframe tbody tr th:only-of-type {\n",
       "        vertical-align: middle;\n",
       "    }\n",
       "\n",
       "    .dataframe tbody tr th {\n",
       "        vertical-align: top;\n",
       "    }\n",
       "\n",
       "    .dataframe thead th {\n",
       "        text-align: right;\n",
       "    }\n",
       "</style>\n",
       "<table border=\"1\" class=\"dataframe\">\n",
       "  <thead>\n",
       "    <tr style=\"text-align: right;\">\n",
       "      <th></th>\n",
       "      <th>TYPE</th>\n",
       "      <th>DATE</th>\n",
       "      <th>START TIME</th>\n",
       "      <th>END TIME</th>\n",
       "      <th>USAGE</th>\n",
       "      <th>UNITS</th>\n",
       "      <th>COST</th>\n",
       "      <th>NOTES</th>\n",
       "    </tr>\n",
       "  </thead>\n",
       "  <tbody>\n",
       "    <tr>\n",
       "      <th>0</th>\n",
       "      <td>Electric usage</td>\n",
       "      <td>10/22/2016</td>\n",
       "      <td>0:00</td>\n",
       "      <td>0:14</td>\n",
       "      <td>0.01</td>\n",
       "      <td>kWh</td>\n",
       "      <td>$0.00</td>\n",
       "      <td>NaN</td>\n",
       "    </tr>\n",
       "    <tr>\n",
       "      <th>1</th>\n",
       "      <td>Electric usage</td>\n",
       "      <td>10/22/2016</td>\n",
       "      <td>0:15</td>\n",
       "      <td>0:29</td>\n",
       "      <td>0.01</td>\n",
       "      <td>kWh</td>\n",
       "      <td>$0.00</td>\n",
       "      <td>NaN</td>\n",
       "    </tr>\n",
       "    <tr>\n",
       "      <th>2</th>\n",
       "      <td>Electric usage</td>\n",
       "      <td>10/22/2016</td>\n",
       "      <td>0:30</td>\n",
       "      <td>0:44</td>\n",
       "      <td>0.01</td>\n",
       "      <td>kWh</td>\n",
       "      <td>$0.00</td>\n",
       "      <td>NaN</td>\n",
       "    </tr>\n",
       "    <tr>\n",
       "      <th>3</th>\n",
       "      <td>Electric usage</td>\n",
       "      <td>10/22/2016</td>\n",
       "      <td>0:45</td>\n",
       "      <td>0:59</td>\n",
       "      <td>0.01</td>\n",
       "      <td>kWh</td>\n",
       "      <td>$0.00</td>\n",
       "      <td>NaN</td>\n",
       "    </tr>\n",
       "    <tr>\n",
       "      <th>4</th>\n",
       "      <td>Electric usage</td>\n",
       "      <td>10/22/2016</td>\n",
       "      <td>1:00</td>\n",
       "      <td>1:14</td>\n",
       "      <td>0.01</td>\n",
       "      <td>kWh</td>\n",
       "      <td>$0.00</td>\n",
       "      <td>NaN</td>\n",
       "    </tr>\n",
       "    <tr>\n",
       "      <th>...</th>\n",
       "      <td>...</td>\n",
       "      <td>...</td>\n",
       "      <td>...</td>\n",
       "      <td>...</td>\n",
       "      <td>...</td>\n",
       "      <td>...</td>\n",
       "      <td>...</td>\n",
       "      <td>...</td>\n",
       "    </tr>\n",
       "    <tr>\n",
       "      <th>70363</th>\n",
       "      <td>Electric usage</td>\n",
       "      <td>10/24/2018</td>\n",
       "      <td>22:45</td>\n",
       "      <td>22:59</td>\n",
       "      <td>0.02</td>\n",
       "      <td>kWh</td>\n",
       "      <td>$0.00</td>\n",
       "      <td>NaN</td>\n",
       "    </tr>\n",
       "    <tr>\n",
       "      <th>70364</th>\n",
       "      <td>Electric usage</td>\n",
       "      <td>10/24/2018</td>\n",
       "      <td>23:00</td>\n",
       "      <td>23:14</td>\n",
       "      <td>0.03</td>\n",
       "      <td>kWh</td>\n",
       "      <td>$0.01</td>\n",
       "      <td>NaN</td>\n",
       "    </tr>\n",
       "    <tr>\n",
       "      <th>70365</th>\n",
       "      <td>Electric usage</td>\n",
       "      <td>10/24/2018</td>\n",
       "      <td>23:15</td>\n",
       "      <td>23:29</td>\n",
       "      <td>0.03</td>\n",
       "      <td>kWh</td>\n",
       "      <td>$0.01</td>\n",
       "      <td>NaN</td>\n",
       "    </tr>\n",
       "    <tr>\n",
       "      <th>70366</th>\n",
       "      <td>Electric usage</td>\n",
       "      <td>10/24/2018</td>\n",
       "      <td>23:30</td>\n",
       "      <td>23:44</td>\n",
       "      <td>0.03</td>\n",
       "      <td>kWh</td>\n",
       "      <td>$0.01</td>\n",
       "      <td>NaN</td>\n",
       "    </tr>\n",
       "    <tr>\n",
       "      <th>70367</th>\n",
       "      <td>Electric usage</td>\n",
       "      <td>10/24/2018</td>\n",
       "      <td>23:45</td>\n",
       "      <td>23:59</td>\n",
       "      <td>0.03</td>\n",
       "      <td>kWh</td>\n",
       "      <td>$0.01</td>\n",
       "      <td>NaN</td>\n",
       "    </tr>\n",
       "  </tbody>\n",
       "</table>\n",
       "<p>70368 rows × 8 columns</p>\n",
       "</div>"
      ],
      "text/plain": [
       "                 TYPE        DATE START TIME END TIME  USAGE UNITS    COST  \\\n",
       "0      Electric usage  10/22/2016       0:00     0:14   0.01   kWh  $0.00    \n",
       "1      Electric usage  10/22/2016       0:15     0:29   0.01   kWh  $0.00    \n",
       "2      Electric usage  10/22/2016       0:30     0:44   0.01   kWh  $0.00    \n",
       "3      Electric usage  10/22/2016       0:45     0:59   0.01   kWh  $0.00    \n",
       "4      Electric usage  10/22/2016       1:00     1:14   0.01   kWh  $0.00    \n",
       "...               ...         ...        ...      ...    ...   ...     ...   \n",
       "70363  Electric usage  10/24/2018      22:45    22:59   0.02   kWh  $0.00    \n",
       "70364  Electric usage  10/24/2018      23:00    23:14   0.03   kWh  $0.01    \n",
       "70365  Electric usage  10/24/2018      23:15    23:29   0.03   kWh  $0.01    \n",
       "70366  Electric usage  10/24/2018      23:30    23:44   0.03   kWh  $0.01    \n",
       "70367  Electric usage  10/24/2018      23:45    23:59   0.03   kWh  $0.01    \n",
       "\n",
       "       NOTES  \n",
       "0        NaN  \n",
       "1        NaN  \n",
       "2        NaN  \n",
       "3        NaN  \n",
       "4        NaN  \n",
       "...      ...  \n",
       "70363    NaN  \n",
       "70364    NaN  \n",
       "70365    NaN  \n",
       "70366    NaN  \n",
       "70367    NaN  \n",
       "\n",
       "[70368 rows x 8 columns]"
      ]
     },
     "execution_count": 49,
     "metadata": {},
     "output_type": "execute_result"
    }
   ],
   "source": [
    "data = pd.read_csv('D202.csv')\n",
    "data"
   ]
  },
  {
   "cell_type": "markdown",
   "id": "6dae5d3f",
   "metadata": {},
   "source": [
    "The data shows each time there is a power consumption with start time and end time. We are only interested in total daily consumption. Also, there are a lot of columns which are not required"
   ]
  },
  {
   "cell_type": "markdown",
   "id": "1c608917",
   "metadata": {},
   "source": [
    "## Cleaning the data"
   ]
  },
  {
   "cell_type": "code",
   "execution_count": 50,
   "id": "3ad5503c",
   "metadata": {},
   "outputs": [],
   "source": [
    "data.drop('NOTES', axis = 1, inplace = True)"
   ]
  },
  {
   "cell_type": "code",
   "execution_count": 51,
   "id": "3f6a9d21",
   "metadata": {},
   "outputs": [
    {
     "name": "stdout",
     "output_type": "stream",
     "text": [
      "<class 'pandas.core.frame.DataFrame'>\n",
      "RangeIndex: 70368 entries, 0 to 70367\n",
      "Data columns (total 7 columns):\n",
      " #   Column      Non-Null Count  Dtype  \n",
      "---  ------      --------------  -----  \n",
      " 0   TYPE        70368 non-null  object \n",
      " 1   DATE        70368 non-null  object \n",
      " 2   START TIME  70368 non-null  object \n",
      " 3   END TIME    70368 non-null  object \n",
      " 4   USAGE       70368 non-null  float64\n",
      " 5   UNITS       70368 non-null  object \n",
      " 6   COST        70368 non-null  object \n",
      "dtypes: float64(1), object(6)\n",
      "memory usage: 3.8+ MB\n"
     ]
    }
   ],
   "source": [
    "data.info()"
   ]
  },
  {
   "cell_type": "code",
   "execution_count": 52,
   "id": "c73626db",
   "metadata": {},
   "outputs": [
    {
     "data": {
      "text/plain": [
       "TYPE          False\n",
       "DATE          False\n",
       "START TIME    False\n",
       "END TIME      False\n",
       "USAGE         False\n",
       "UNITS         False\n",
       "COST          False\n",
       "dtype: bool"
      ]
     },
     "execution_count": 52,
     "metadata": {},
     "output_type": "execute_result"
    }
   ],
   "source": [
    "data.isnull().any()  #checking for null"
   ]
  },
  {
   "cell_type": "code",
   "execution_count": 54,
   "id": "705a9525",
   "metadata": {},
   "outputs": [],
   "source": [
    "y= data['USAGE'].values\n",
    "X= np.arange(y.shape[0])"
   ]
  },
  {
   "cell_type": "code",
   "execution_count": 55,
   "id": "515b181c",
   "metadata": {},
   "outputs": [
    {
     "data": {
      "text/plain": [
       "[<matplotlib.lines.Line2D at 0x1ac1d317790>]"
      ]
     },
     "execution_count": 55,
     "metadata": {},
     "output_type": "execute_result"
    },
    {
     "data": {
      "image/png": "[encoded data removed]",
      "text/plain": [
       "<Figure size 432x288 with 1 Axes>"
      ]
     },
     "metadata": {
      "needs_background": "light"
     },
     "output_type": "display_data"
    }
   ],
   "source": [
    "plt.plot(X[:1000],y[:1000])"
   ]
  },
  {
   "cell_type": "code",
   "execution_count": 56,
   "id": "eacec8c5",
   "metadata": {},
   "outputs": [],
   "source": [
    "df2 = data.copy(deep = True)\n",
    "df2.drop(columns = ['START TIME','END TIME','UNITS','COST','TYPE'], inplace =True)\n"
   ]
  },
  {
   "cell_type": "code",
   "execution_count": 57,
   "id": "a06fa3d0",
   "metadata": {},
   "outputs": [
    {
     "data": {
      "text/html": [
       "<div>\n",
       "<style scoped>\n",
       "    .dataframe tbody tr th:only-of-type {\n",
       "        vertical-align: middle;\n",
       "    }\n",
       "\n",
       "    .dataframe tbody tr th {\n",
       "        vertical-align: top;\n",
       "    }\n",
       "\n",
       "    .dataframe thead th {\n",
       "        text-align: right;\n",
       "    }\n",
       "</style>\n",
       "<table border=\"1\" class=\"dataframe\">\n",
       "  <thead>\n",
       "    <tr style=\"text-align: right;\">\n",
       "      <th></th>\n",
       "      <th>DATE</th>\n",
       "      <th>USAGE</th>\n",
       "    </tr>\n",
       "  </thead>\n",
       "  <tbody>\n",
       "    <tr>\n",
       "      <th>0</th>\n",
       "      <td>10/22/2016</td>\n",
       "      <td>0.01</td>\n",
       "    </tr>\n",
       "    <tr>\n",
       "      <th>1</th>\n",
       "      <td>10/22/2016</td>\n",
       "      <td>0.01</td>\n",
       "    </tr>\n",
       "    <tr>\n",
       "      <th>2</th>\n",
       "      <td>10/22/2016</td>\n",
       "      <td>0.01</td>\n",
       "    </tr>\n",
       "    <tr>\n",
       "      <th>3</th>\n",
       "      <td>10/22/2016</td>\n",
       "      <td>0.01</td>\n",
       "    </tr>\n",
       "    <tr>\n",
       "      <th>4</th>\n",
       "      <td>10/22/2016</td>\n",
       "      <td>0.01</td>\n",
       "    </tr>\n",
       "    <tr>\n",
       "      <th>...</th>\n",
       "      <td>...</td>\n",
       "      <td>...</td>\n",
       "    </tr>\n",
       "    <tr>\n",
       "      <th>70363</th>\n",
       "      <td>10/24/2018</td>\n",
       "      <td>0.02</td>\n",
       "    </tr>\n",
       "    <tr>\n",
       "      <th>70364</th>\n",
       "      <td>10/24/2018</td>\n",
       "      <td>0.03</td>\n",
       "    </tr>\n",
       "    <tr>\n",
       "      <th>70365</th>\n",
       "      <td>10/24/2018</td>\n",
       "      <td>0.03</td>\n",
       "    </tr>\n",
       "    <tr>\n",
       "      <th>70366</th>\n",
       "      <td>10/24/2018</td>\n",
       "      <td>0.03</td>\n",
       "    </tr>\n",
       "    <tr>\n",
       "      <th>70367</th>\n",
       "      <td>10/24/2018</td>\n",
       "      <td>0.03</td>\n",
       "    </tr>\n",
       "  </tbody>\n",
       "</table>\n",
       "<p>70368 rows × 2 columns</p>\n",
       "</div>"
      ],
      "text/plain": [
       "             DATE  USAGE\n",
       "0      10/22/2016   0.01\n",
       "1      10/22/2016   0.01\n",
       "2      10/22/2016   0.01\n",
       "3      10/22/2016   0.01\n",
       "4      10/22/2016   0.01\n",
       "...           ...    ...\n",
       "70363  10/24/2018   0.02\n",
       "70364  10/24/2018   0.03\n",
       "70365  10/24/2018   0.03\n",
       "70366  10/24/2018   0.03\n",
       "70367  10/24/2018   0.03\n",
       "\n",
       "[70368 rows x 2 columns]"
      ]
     },
     "execution_count": 57,
     "metadata": {},
     "output_type": "execute_result"
    }
   ],
   "source": [
    "df2"
   ]
  },
  {
   "cell_type": "markdown",
   "id": "bee3aeb2",
   "metadata": {},
   "source": [
    "### Grouping the power consumption date-wise"
   ]
  },
  {
   "cell_type": "code",
   "execution_count": 58,
   "id": "d71a0cf6",
   "metadata": {},
   "outputs": [
    {
     "name": "stdout",
     "output_type": "stream",
     "text": [
      "<class 'str'>\n"
     ]
    }
   ],
   "source": [
    "print(type(df2.DATE[0]))"
   ]
  },
  {
   "cell_type": "code",
   "execution_count": 59,
   "id": "ae2f78e6",
   "metadata": {},
   "outputs": [],
   "source": [
    "df2['DATE'] = pd.to_datetime(df2['DATE'])"
   ]
  },
  {
   "cell_type": "code",
   "execution_count": 60,
   "id": "a8e63a00",
   "metadata": {},
   "outputs": [
    {
     "name": "stdout",
     "output_type": "stream",
     "text": [
      "<class 'pandas._libs.tslibs.timestamps.Timestamp'>\n"
     ]
    }
   ],
   "source": [
    "print(type(df2.DATE[0]))"
   ]
  },
  {
   "cell_type": "code",
   "execution_count": 61,
   "id": "8773347e",
   "metadata": {},
   "outputs": [],
   "source": [
    "group_days = df2.groupby('DATE')"
   ]
  },
  {
   "cell_type": "code",
   "execution_count": 62,
   "id": "f57af706",
   "metadata": {},
   "outputs": [],
   "source": [
    "df3 = group_days.sum()"
   ]
  },
  {
   "cell_type": "code",
   "execution_count": 63,
   "id": "c4537f1c",
   "metadata": {},
   "outputs": [
    {
     "data": {
      "text/html": [
       "<div>\n",
       "<style scoped>\n",
       "    .dataframe tbody tr th:only-of-type {\n",
       "        vertical-align: middle;\n",
       "    }\n",
       "\n",
       "    .dataframe tbody tr th {\n",
       "        vertical-align: top;\n",
       "    }\n",
       "\n",
       "    .dataframe thead th {\n",
       "        text-align: right;\n",
       "    }\n",
       "</style>\n",
       "<table border=\"1\" class=\"dataframe\">\n",
       "  <thead>\n",
       "    <tr style=\"text-align: right;\">\n",
       "      <th></th>\n",
       "      <th>USAGE</th>\n",
       "    </tr>\n",
       "    <tr>\n",
       "      <th>DATE</th>\n",
       "      <th></th>\n",
       "    </tr>\n",
       "  </thead>\n",
       "  <tbody>\n",
       "    <tr>\n",
       "      <th>2016-10-22</th>\n",
       "      <td>4.52</td>\n",
       "    </tr>\n",
       "    <tr>\n",
       "      <th>2016-10-23</th>\n",
       "      <td>23.32</td>\n",
       "    </tr>\n",
       "    <tr>\n",
       "      <th>2016-10-24</th>\n",
       "      <td>7.16</td>\n",
       "    </tr>\n",
       "    <tr>\n",
       "      <th>2016-10-25</th>\n",
       "      <td>8.68</td>\n",
       "    </tr>\n",
       "    <tr>\n",
       "      <th>2016-10-26</th>\n",
       "      <td>5.04</td>\n",
       "    </tr>\n",
       "    <tr>\n",
       "      <th>...</th>\n",
       "      <td>...</td>\n",
       "    </tr>\n",
       "    <tr>\n",
       "      <th>2018-10-20</th>\n",
       "      <td>8.00</td>\n",
       "    </tr>\n",
       "    <tr>\n",
       "      <th>2018-10-21</th>\n",
       "      <td>1.12</td>\n",
       "    </tr>\n",
       "    <tr>\n",
       "      <th>2018-10-22</th>\n",
       "      <td>0.64</td>\n",
       "    </tr>\n",
       "    <tr>\n",
       "      <th>2018-10-23</th>\n",
       "      <td>1.20</td>\n",
       "    </tr>\n",
       "    <tr>\n",
       "      <th>2018-10-24</th>\n",
       "      <td>1.92</td>\n",
       "    </tr>\n",
       "  </tbody>\n",
       "</table>\n",
       "<p>733 rows × 1 columns</p>\n",
       "</div>"
      ],
      "text/plain": [
       "            USAGE\n",
       "DATE             \n",
       "2016-10-22   4.52\n",
       "2016-10-23  23.32\n",
       "2016-10-24   7.16\n",
       "2016-10-25   8.68\n",
       "2016-10-26   5.04\n",
       "...           ...\n",
       "2018-10-20   8.00\n",
       "2018-10-21   1.12\n",
       "2018-10-22   0.64\n",
       "2018-10-23   1.20\n",
       "2018-10-24   1.92\n",
       "\n",
       "[733 rows x 1 columns]"
      ]
     },
     "execution_count": 63,
     "metadata": {},
     "output_type": "execute_result"
    }
   ],
   "source": [
    "df3"
   ]
  },
  {
   "cell_type": "code",
   "execution_count": 64,
   "id": "75917d31",
   "metadata": {},
   "outputs": [
    {
     "data": {
      "text/html": [
       "<div>\n",
       "<style scoped>\n",
       "    .dataframe tbody tr th:only-of-type {\n",
       "        vertical-align: middle;\n",
       "    }\n",
       "\n",
       "    .dataframe tbody tr th {\n",
       "        vertical-align: top;\n",
       "    }\n",
       "\n",
       "    .dataframe thead th {\n",
       "        text-align: right;\n",
       "    }\n",
       "</style>\n",
       "<table border=\"1\" class=\"dataframe\">\n",
       "  <thead>\n",
       "    <tr style=\"text-align: right;\">\n",
       "      <th></th>\n",
       "      <th>USAGE</th>\n",
       "    </tr>\n",
       "    <tr>\n",
       "      <th>DATE</th>\n",
       "      <th></th>\n",
       "    </tr>\n",
       "  </thead>\n",
       "  <tbody>\n",
       "    <tr>\n",
       "      <th>2016-10-22</th>\n",
       "      <td>4.52</td>\n",
       "    </tr>\n",
       "    <tr>\n",
       "      <th>2016-10-23</th>\n",
       "      <td>23.32</td>\n",
       "    </tr>\n",
       "    <tr>\n",
       "      <th>2016-10-24</th>\n",
       "      <td>7.16</td>\n",
       "    </tr>\n",
       "    <tr>\n",
       "      <th>2016-10-25</th>\n",
       "      <td>8.68</td>\n",
       "    </tr>\n",
       "    <tr>\n",
       "      <th>2016-10-26</th>\n",
       "      <td>5.04</td>\n",
       "    </tr>\n",
       "    <tr>\n",
       "      <th>...</th>\n",
       "      <td>...</td>\n",
       "    </tr>\n",
       "    <tr>\n",
       "      <th>2018-10-20</th>\n",
       "      <td>8.00</td>\n",
       "    </tr>\n",
       "    <tr>\n",
       "      <th>2018-10-21</th>\n",
       "      <td>1.12</td>\n",
       "    </tr>\n",
       "    <tr>\n",
       "      <th>2018-10-22</th>\n",
       "      <td>0.64</td>\n",
       "    </tr>\n",
       "    <tr>\n",
       "      <th>2018-10-23</th>\n",
       "      <td>1.20</td>\n",
       "    </tr>\n",
       "    <tr>\n",
       "      <th>2018-10-24</th>\n",
       "      <td>1.92</td>\n",
       "    </tr>\n",
       "  </tbody>\n",
       "</table>\n",
       "<p>733 rows × 1 columns</p>\n",
       "</div>"
      ],
      "text/plain": [
       "            USAGE\n",
       "DATE             \n",
       "2016-10-22   4.52\n",
       "2016-10-23  23.32\n",
       "2016-10-24   7.16\n",
       "2016-10-25   8.68\n",
       "2016-10-26   5.04\n",
       "...           ...\n",
       "2018-10-20   8.00\n",
       "2018-10-21   1.12\n",
       "2018-10-22   0.64\n",
       "2018-10-23   1.20\n",
       "2018-10-24   1.92\n",
       "\n",
       "[733 rows x 1 columns]"
      ]
     },
     "execution_count": 64,
     "metadata": {},
     "output_type": "execute_result"
    }
   ],
   "source": [
    "df3.sort_values(by='DATE')\n",
    "df3"
   ]
  },
  {
   "cell_type": "code",
   "execution_count": 65,
   "id": "b285e73a",
   "metadata": {},
   "outputs": [
    {
     "name": "stderr",
     "output_type": "stream",
     "text": [
      "C:\\Users\\Dell\\anaconda3\\lib\\site-packages\\seaborn\\distributions.py:2557: FutureWarning: `distplot` is a deprecated function and will be removed in a future version. Please adapt your code to use either `displot` (a figure-level function with similar flexibility) or `histplot` (an axes-level function for histograms).\n",
      "  warnings.warn(msg, FutureWarning)\n"
     ]
    },
    {
     "data": {
      "text/plain": [
       "<AxesSubplot:xlabel='USAGE', ylabel='Density'>"
      ]
     },
     "execution_count": 65,
     "metadata": {},
     "output_type": "execute_result"
    },
    {
     "data": {
      "image/png": "[encoded data removed]",
      "text/plain": [
       "<Figure size 432x288 with 1 Axes>"
      ]
     },
     "metadata": {
      "needs_background": "light"
     },
     "output_type": "display_data"
    }
   ],
   "source": [
    "sns.distplot(data['USAGE'])"
   ]
  },
  {
   "cell_type": "markdown",
   "id": "1f30d581",
   "metadata": {},
   "source": [
    "## Plotting the data"
   ]
  },
  {
   "cell_type": "code",
   "execution_count": 66,
   "id": "b11a18eb",
   "metadata": {},
   "outputs": [],
   "source": [
    "y= df3['USAGE'].values\n",
    "X= np.arange(y.shape[0])"
   ]
  },
  {
   "cell_type": "code",
   "execution_count": 67,
   "id": "c7083475",
   "metadata": {},
   "outputs": [
    {
     "data": {
      "text/plain": [
       "[<matplotlib.lines.Line2D at 0x1ac1d451df0>]"
      ]
     },
     "execution_count": 67,
     "metadata": {},
     "output_type": "execute_result"
    },
    {
     "data": {
      "image/png": "[encoded data removed]",
      "text/plain": [
       "<Figure size 432x288 with 1 Axes>"
      ]
     },
     "metadata": {
      "needs_background": "light"
     },
     "output_type": "display_data"
    }
   ],
   "source": [
    "plt.plot(X,y,'-',label=\"Test data\")\n",
    "plt.xlabel('Days')\n",
    "plt.ylabel('Power consumption (kW)')\n",
    "plt.title('Training data')\n",
    "plt.legend()\n",
    "plt.show()"
   ]
  },
  {
   "cell_type": "markdown",
   "id": "e24762a0",
   "metadata": {},
   "source": [
    "### Splitting the data\n",
    "Using the split at 365 days to capture yearly trend"
   ]
  },
  {
   "cell_type": "code",
   "execution_count": null,
   "id": "a810c4fe",
   "metadata": {},
   "outputs": [],
   "source": [
    "# Define the split time\n",
    "split_time = 365\n",
    "\n",
    "# Get the train set \n",
    "x_train = y[:split_time]\n",
    "time_train = X[:split_time]\n",
    "\n",
    "# Get the validation set\n",
    "x_valid = y[split_time:]\n",
    "time_valid = X[split_time:]"
   ]
  },
  {
   "cell_type": "markdown",
   "id": "4b6fa343",
   "metadata": {},
   "source": [
    "Preparing the dataset"
   ]
  },
  {
   "cell_type": "code",
   "execution_count": 69,
   "id": "6f9057df",
   "metadata": {},
   "outputs": [],
   "source": [
    "def windowed_dataset(series, window_size, batch_size, shuffle_buffer):\n",
    "    \"\"\"Generates dataset windows\n",
    "\n",
    "    Args:\n",
    "      series (array of float) - contains the values of the time series\n",
    "      window_size (int) - the number of time steps to include in the feature\n",
    "      batch_size (int) - the batch size\n",
    "      shuffle_buffer(int) - buffer size to use for the shuffle method\n",
    "\n",
    "    Returns:\n",
    "      dataset (TF Dataset) - TF Dataset containing time windows\n",
    "    \"\"\"\n",
    "  \n",
    "    # Generate a TF Dataset from the series values\n",
    "    dataset = tf.data.Dataset.from_tensor_slices(series)\n",
    "    \n",
    "    # Window the data but only take those with the specified size\n",
    "    dataset = dataset.window(window_size + 1, shift=1, drop_remainder=True)\n",
    "    \n",
    "    # Flatten the windows by putting its elements in a single batch\n",
    "    dataset = dataset.flat_map(lambda window: window.batch(window_size + 1))\n",
    "\n",
    "    # Create tuples with features and labels \n",
    "    dataset = dataset.map(lambda window: (window[:-1], window[-1]))\n",
    "\n",
    "    # Shuffle the windows\n",
    "    dataset = dataset.shuffle(shuffle_buffer)\n",
    "    \n",
    "    # Create batches of windows\n",
    "    dataset = dataset.batch(batch_size).prefetch(1)\n",
    "    \n",
    "    return dataset"
   ]
  },
  {
   "cell_type": "code",
   "execution_count": 70,
   "id": "ab616160",
   "metadata": {},
   "outputs": [],
   "source": [
    "# Parameters\n",
    "window_size = 20\n",
    "batch_size = 32\n",
    "shuffle_buffer_size = 100\n",
    "\n",
    "# Generate the dataset windows\n",
    "train_set = windowed_dataset(x_train, window_size, batch_size, shuffle_buffer_size)"
   ]
  },
  {
   "cell_type": "markdown",
   "id": "bf8d3da9",
   "metadata": {},
   "source": [
    "## Model"
   ]
  },
  {
   "cell_type": "code",
   "execution_count": 71,
   "id": "a7fadfc4",
   "metadata": {},
   "outputs": [
    {
     "name": "stdout",
     "output_type": "stream",
     "text": [
      "Model: \"sequential\"\n",
      "_________________________________________________________________\n",
      " Layer (type)                Output Shape              Param #   \n",
      "=================================================================\n",
      " lambda (Lambda)             (None, 20, 1)             0         \n",
      "                                                                 \n",
      " bidirectional (Bidirectiona  (None, 20, 64)           8704      \n",
      " l)                                                              \n",
      "                                                                 \n",
      " bidirectional_1 (Bidirectio  (None, 64)               24832     \n",
      " nal)                                                            \n",
      "                                                                 \n",
      " dense (Dense)               (None, 10)                650       \n",
      "                                                                 \n",
      " dense_1 (Dense)             (None, 1)                 11        \n",
      "                                                                 \n",
      " lambda_1 (Lambda)           (None, 1)                 0         \n",
      "                                                                 \n",
      "=================================================================\n",
      "Total params: 34,197\n",
      "Trainable params: 34,197\n",
      "Non-trainable params: 0\n",
      "_________________________________________________________________\n"
     ]
    }
   ],
   "source": [
    "# Build the Model\n",
    "model1 = tf.keras.models.Sequential([\n",
    "  tf.keras.layers.Lambda(lambda x: tf.expand_dims(x, axis=-1),\n",
    "                      input_shape=[window_size]),\n",
    "  tf.keras.layers.Bidirectional(tf.keras.layers.LSTM(32, return_sequences=True)),\n",
    "  tf.keras.layers.Bidirectional(tf.keras.layers.LSTM(32)),\n",
    "  tf.keras.layers.Dense(10, activation=\"relu\"),\n",
    "  tf.keras.layers.Dense(1),\n",
    "  tf.keras.layers.Lambda(lambda x: x * 400)\n",
    "])\n",
    "\n",
    " # Print the model summary \n",
    "model1.summary()"
   ]
  },
  {
   "cell_type": "markdown",
   "id": "12f53804",
   "metadata": {},
   "source": [
    "Finding best learning rate using callbacks"
   ]
  },
  {
   "cell_type": "code",
   "execution_count": 72,
   "id": "aa173f4c",
   "metadata": {},
   "outputs": [
    {
     "name": "stdout",
     "output_type": "stream",
     "text": [
      "Epoch 1/100\n",
      "11/11 [==============================] - 45s 43ms/step - loss: 48.1774 - lr: 1.0000e-08\n",
      "Epoch 2/100\n",
      "11/11 [==============================] - 0s 23ms/step - loss: 48.1697 - lr: 1.1220e-08\n",
      "Epoch 3/100\n",
      "11/11 [==============================] - 0s 28ms/step - loss: 48.1609 - lr: 1.2589e-08\n",
      "Epoch 4/100\n",
      "11/11 [==============================] - 0s 26ms/step - loss: 48.1512 - lr: 1.4125e-08\n",
      "Epoch 5/100\n",
      "11/11 [==============================] - 0s 21ms/step - loss: 48.1410 - lr: 1.5849e-08\n",
      "Epoch 6/100\n",
      "11/11 [==============================] - 0s 29ms/step - loss: 48.1299 - lr: 1.7783e-08\n",
      "Epoch 7/100\n",
      "11/11 [==============================] - 0s 25ms/step - loss: 48.1177 - lr: 1.9953e-08\n",
      "Epoch 8/100\n",
      "11/11 [==============================] - 0s 23ms/step - loss: 48.1036 - lr: 2.2387e-08\n",
      "Epoch 9/100\n",
      "11/11 [==============================] - 0s 38ms/step - loss: 48.0873 - lr: 2.5119e-08\n",
      "Epoch 10/100\n",
      "11/11 [==============================] - 0s 26ms/step - loss: 48.0686 - lr: 2.8184e-08\n",
      "Epoch 11/100\n",
      "11/11 [==============================] - 0s 22ms/step - loss: 48.0480 - lr: 3.1623e-08\n",
      "Epoch 12/100\n",
      "11/11 [==============================] - 0s 28ms/step - loss: 48.0257 - lr: 3.5481e-08\n",
      "Epoch 13/100\n",
      "11/11 [==============================] - 0s 29ms/step - loss: 48.0003 - lr: 3.9811e-08\n",
      "Epoch 14/100\n",
      "11/11 [==============================] - 0s 21ms/step - loss: 47.9713 - lr: 4.4668e-08\n",
      "Epoch 15/100\n",
      "11/11 [==============================] - 0s 23ms/step - loss: 47.9392 - lr: 5.0119e-08\n",
      "Epoch 16/100\n",
      "11/11 [==============================] - 0s 35ms/step - loss: 47.9030 - lr: 5.6234e-08\n",
      "Epoch 17/100\n",
      "11/11 [==============================] - 0s 21ms/step - loss: 47.8624 - lr: 6.3096e-08\n",
      "Epoch 18/100\n",
      "11/11 [==============================] - 0s 34ms/step - loss: 47.8169 - lr: 7.0795e-08\n",
      "Epoch 19/100\n",
      "11/11 [==============================] - 1s 32ms/step - loss: 47.7657 - lr: 7.9433e-08\n",
      "Epoch 20/100\n",
      "11/11 [==============================] - 0s 25ms/step - loss: 47.7083 - lr: 8.9125e-08\n",
      "Epoch 21/100\n",
      "11/11 [==============================] - 0s 35ms/step - loss: 47.6438 - lr: 1.0000e-07\n",
      "Epoch 22/100\n",
      "11/11 [==============================] - 0s 23ms/step - loss: 47.5714 - lr: 1.1220e-07\n",
      "Epoch 23/100\n",
      "11/11 [==============================] - 0s 23ms/step - loss: 47.4907 - lr: 1.2589e-07\n",
      "Epoch 24/100\n",
      "11/11 [==============================] - 0s 31ms/step - loss: 47.4003 - lr: 1.4125e-07\n",
      "Epoch 25/100\n",
      "11/11 [==============================] - 0s 26ms/step - loss: 47.2989 - lr: 1.5849e-07\n",
      "Epoch 26/100\n",
      "11/11 [==============================] - 0s 23ms/step - loss: 47.1848 - lr: 1.7783e-07\n",
      "Epoch 27/100\n",
      "11/11 [==============================] - 0s 34ms/step - loss: 47.0577 - lr: 1.9953e-07\n",
      "Epoch 28/100\n",
      "11/11 [==============================] - 0s 24ms/step - loss: 46.9157 - lr: 2.2387e-07\n",
      "Epoch 29/100\n",
      "11/11 [==============================] - 0s 21ms/step - loss: 46.7576 - lr: 2.5119e-07\n",
      "Epoch 30/100\n",
      "11/11 [==============================] - 0s 36ms/step - loss: 46.5811 - lr: 2.8184e-07\n",
      "Epoch 31/100\n",
      "11/11 [==============================] - 0s 29ms/step - loss: 46.3842 - lr: 3.1623e-07\n",
      "Epoch 32/100\n",
      "11/11 [==============================] - 0s 27ms/step - loss: 46.1647 - lr: 3.5481e-07\n",
      "Epoch 33/100\n",
      "11/11 [==============================] - 0s 33ms/step - loss: 45.9201 - lr: 3.9811e-07\n",
      "Epoch 34/100\n",
      "11/11 [==============================] - 0s 29ms/step - loss: 45.6467 - lr: 4.4668e-07\n",
      "Epoch 35/100\n",
      "11/11 [==============================] - 0s 23ms/step - loss: 45.3430 - lr: 5.0119e-07\n",
      "Epoch 36/100\n",
      "11/11 [==============================] - 0s 27ms/step - loss: 45.0047 - lr: 5.6234e-07\n",
      "Epoch 37/100\n",
      "11/11 [==============================] - 1s 35ms/step - loss: 44.6280 - lr: 6.3096e-07\n",
      "Epoch 38/100\n",
      "11/11 [==============================] - 0s 23ms/step - loss: 44.2066 - lr: 7.0795e-07\n",
      "Epoch 39/100\n",
      "11/11 [==============================] - 0s 32ms/step - loss: 43.7390 - lr: 7.9433e-07\n",
      "Epoch 40/100\n",
      "11/11 [==============================] - 0s 27ms/step - loss: 43.2135 - lr: 8.9125e-07\n",
      "Epoch 41/100\n",
      "11/11 [==============================] - 0s 24ms/step - loss: 42.6300 - lr: 1.0000e-06\n",
      "Epoch 42/100\n",
      "11/11 [==============================] - 0s 41ms/step - loss: 41.9789 - lr: 1.1220e-06\n",
      "Epoch 43/100\n",
      "11/11 [==============================] - 0s 28ms/step - loss: 41.2527 - lr: 1.2589e-06\n",
      "Epoch 44/100\n",
      "11/11 [==============================] - 0s 29ms/step - loss: 40.4442 - lr: 1.4125e-06\n",
      "Epoch 45/100\n",
      "11/11 [==============================] - 0s 39ms/step - loss: 39.5433 - lr: 1.5849e-06\n",
      "Epoch 46/100\n",
      "11/11 [==============================] - 0s 24ms/step - loss: 38.5365 - lr: 1.7783e-06\n",
      "Epoch 47/100\n",
      "11/11 [==============================] - 0s 26ms/step - loss: 37.4110 - lr: 1.9953e-06\n",
      "Epoch 48/100\n",
      "11/11 [==============================] - 0s 34ms/step - loss: 36.1522 - lr: 2.2387e-06\n",
      "Epoch 49/100\n",
      "11/11 [==============================] - 0s 23ms/step - loss: 34.7461 - lr: 2.5119e-06\n",
      "Epoch 50/100\n",
      "11/11 [==============================] - 0s 23ms/step - loss: 33.1720 - lr: 2.8184e-06\n",
      "Epoch 51/100\n",
      "11/11 [==============================] - 0s 37ms/step - loss: 31.4115 - lr: 3.1623e-06\n",
      "Epoch 52/100\n",
      "11/11 [==============================] - 0s 29ms/step - loss: 29.4495 - lr: 3.5481e-06\n",
      "Epoch 53/100\n",
      "11/11 [==============================] - 0s 23ms/step - loss: 27.2640 - lr: 3.9811e-06\n",
      "Epoch 54/100\n",
      "11/11 [==============================] - 0s 32ms/step - loss: 24.8439 - lr: 4.4668e-06\n",
      "Epoch 55/100\n",
      "11/11 [==============================] - 1s 33ms/step - loss: 22.1641 - lr: 5.0119e-06\n",
      "Epoch 56/100\n",
      "11/11 [==============================] - 0s 21ms/step - loss: 19.2192 - lr: 5.6234e-06\n",
      "Epoch 57/100\n",
      "11/11 [==============================] - 0s 40ms/step - loss: 16.0885 - lr: 6.3096e-06\n",
      "Epoch 58/100\n",
      "11/11 [==============================] - 0s 33ms/step - loss: 12.9106 - lr: 7.0795e-06\n",
      "Epoch 59/100\n",
      "11/11 [==============================] - 0s 32ms/step - loss: 10.0251 - lr: 7.9433e-06\n",
      "Epoch 60/100\n",
      "11/11 [==============================] - 0s 40ms/step - loss: 7.7610 - lr: 8.9125e-06\n",
      "Epoch 61/100\n",
      "11/11 [==============================] - 1s 32ms/step - loss: 6.6252 - lr: 1.0000e-05\n",
      "Epoch 62/100\n",
      "11/11 [==============================] - 0s 31ms/step - loss: 6.3786 - lr: 1.1220e-05\n",
      "Epoch 63/100\n",
      "11/11 [==============================] - 0s 40ms/step - loss: 6.1020 - lr: 1.2589e-05\n",
      "Epoch 64/100\n",
      "11/11 [==============================] - 0s 26ms/step - loss: 5.8725 - lr: 1.4125e-05\n",
      "Epoch 65/100\n",
      "11/11 [==============================] - 0s 23ms/step - loss: 5.7543 - lr: 1.5849e-05\n",
      "Epoch 66/100\n",
      "11/11 [==============================] - 0s 29ms/step - loss: 5.5998 - lr: 1.7783e-05\n",
      "Epoch 67/100\n",
      "11/11 [==============================] - 1s 35ms/step - loss: 5.5151 - lr: 1.9953e-05\n",
      "Epoch 68/100\n",
      "11/11 [==============================] - 0s 23ms/step - loss: 5.3661 - lr: 2.2387e-05\n",
      "Epoch 69/100\n",
      "11/11 [==============================] - 0s 25ms/step - loss: 5.2972 - lr: 2.5119e-05\n",
      "Epoch 70/100\n",
      "11/11 [==============================] - 0s 39ms/step - loss: 5.2032 - lr: 2.8184e-05\n",
      "Epoch 71/100\n",
      "11/11 [==============================] - 0s 25ms/step - loss: 5.1225 - lr: 3.1623e-05\n",
      "Epoch 72/100\n",
      "11/11 [==============================] - 0s 23ms/step - loss: 5.0731 - lr: 3.5481e-05\n",
      "Epoch 73/100\n",
      "11/11 [==============================] - 0s 36ms/step - loss: 4.9893 - lr: 3.9811e-05\n",
      "Epoch 74/100\n",
      "11/11 [==============================] - 0s 24ms/step - loss: 4.9102 - lr: 4.4668e-05\n",
      "Epoch 75/100\n",
      "11/11 [==============================] - 0s 22ms/step - loss: 4.8335 - lr: 5.0119e-05\n",
      "Epoch 76/100\n",
      "11/11 [==============================] - 0s 34ms/step - loss: 4.7512 - lr: 5.6234e-05\n",
      "Epoch 77/100\n",
      "11/11 [==============================] - 0s 28ms/step - loss: 4.6848 - lr: 6.3096e-05\n",
      "Epoch 78/100\n",
      "11/11 [==============================] - 0s 23ms/step - loss: 4.5600 - lr: 7.0795e-05\n",
      "Epoch 79/100\n",
      "11/11 [==============================] - 0s 39ms/step - loss: 4.4878 - lr: 7.9433e-05\n",
      "Epoch 80/100\n",
      "11/11 [==============================] - 0s 29ms/step - loss: 4.4303 - lr: 8.9125e-05\n",
      "Epoch 81/100\n",
      "11/11 [==============================] - 0s 30ms/step - loss: 4.3775 - lr: 1.0000e-04\n",
      "Epoch 82/100\n",
      "11/11 [==============================] - 0s 40ms/step - loss: 4.2915 - lr: 1.1220e-04\n",
      "Epoch 83/100\n",
      "11/11 [==============================] - 0s 33ms/step - loss: 4.3173 - lr: 1.2589e-04\n",
      "Epoch 84/100\n",
      "11/11 [==============================] - 0s 28ms/step - loss: 4.1951 - lr: 1.4125e-04\n",
      "Epoch 85/100\n",
      "11/11 [==============================] - 0s 33ms/step - loss: 4.1161 - lr: 1.5849e-04\n",
      "Epoch 86/100\n",
      "11/11 [==============================] - 0s 29ms/step - loss: 4.1353 - lr: 1.7783e-04\n",
      "Epoch 87/100\n",
      "11/11 [==============================] - 0s 22ms/step - loss: 4.0634 - lr: 1.9953e-04\n",
      "Epoch 88/100\n",
      "11/11 [==============================] - 0s 33ms/step - loss: 4.0838 - lr: 2.2387e-04\n",
      "Epoch 89/100\n",
      "11/11 [==============================] - 0s 24ms/step - loss: 4.0060 - lr: 2.5119e-04\n",
      "Epoch 90/100\n",
      "11/11 [==============================] - 0s 21ms/step - loss: 3.8201 - lr: 2.8184e-04\n",
      "Epoch 91/100\n",
      "11/11 [==============================] - 0s 36ms/step - loss: 3.8626 - lr: 3.1623e-04\n",
      "Epoch 92/100\n",
      "11/11 [==============================] - 0s 23ms/step - loss: 4.1746 - lr: 3.5481e-04\n",
      "Epoch 93/100\n",
      "11/11 [==============================] - 0s 21ms/step - loss: 4.3215 - lr: 3.9811e-04\n",
      "Epoch 94/100\n",
      "11/11 [==============================] - 0s 30ms/step - loss: 3.8105 - lr: 4.4668e-04\n",
      "Epoch 95/100\n",
      "11/11 [==============================] - 0s 29ms/step - loss: 3.5688 - lr: 5.0119e-04\n",
      "Epoch 96/100\n",
      "11/11 [==============================] - 0s 22ms/step - loss: 3.6421 - lr: 5.6234e-04\n",
      "Epoch 97/100\n",
      "11/11 [==============================] - 0s 31ms/step - loss: 4.7062 - lr: 6.3096e-04\n",
      "Epoch 98/100\n",
      "11/11 [==============================] - 0s 24ms/step - loss: 3.4555 - lr: 7.0795e-04\n",
      "Epoch 99/100\n",
      "11/11 [==============================] - 0s 22ms/step - loss: 3.4732 - lr: 7.9433e-04\n",
      "Epoch 100/100\n",
      "11/11 [==============================] - 0s 29ms/step - loss: 4.0426 - lr: 8.9125e-04\n"
     ]
    }
   ],
   "source": [
    "# Set the learning rate scheduler\n",
    "lr_schedule = tf.keras.callbacks.LearningRateScheduler(\n",
    "    lambda epoch: 1e-8 * 10**(epoch / 20))\n",
    "\n",
    "# Initialize the optimizer\n",
    "optimizer = tf.keras.optimizers.Adam()      #SGD(momentum=0.9)\n",
    "\n",
    "# Set the training parameters\n",
    "model1.compile(loss=tf.keras.losses.Huber(), optimizer=optimizer)\n",
    "\n",
    "# Train the model\n",
    "history = model1.fit(train_set, epochs=100, callbacks=[lr_schedule])"
   ]
  },
  {
   "cell_type": "code",
   "execution_count": 74,
   "id": "47c1680c",
   "metadata": {},
   "outputs": [
    {
     "data": {
      "image/png": "[encoded data removed]",
      "text/plain": [
       "<Figure size 720x432 with 1 Axes>"
      ]
     },
     "metadata": {
      "needs_background": "light"
     },
     "output_type": "display_data"
    }
   ],
   "source": [
    "# Define the learning rate array\n",
    "lrs = 1e-8 * (10 ** (np.arange(100) / 20))\n",
    "\n",
    "# Set the figure size\n",
    "plt.figure(figsize=(10, 6))\n",
    "\n",
    "# Set the grid\n",
    "plt.grid(True)\n",
    "\n",
    "# Plot the loss in log scale\n",
    "plt.semilogx(lrs, history.history[\"loss\"])\n",
    "\n",
    "# Increase the tickmarks size\n",
    "plt.tick_params('both', length=10, width=1, which='both')\n",
    "\n",
    "# Set the plot boundaries\n",
    "#plt.axis([1e-8, 1e-3, 0, 30])"
   ]
  },
  {
   "cell_type": "code",
   "execution_count": 78,
   "id": "61ca87d7",
   "metadata": {},
   "outputs": [],
   "source": [
    "tf.keras.backend.clear_session()"
   ]
  },
  {
   "cell_type": "code",
   "execution_count": 79,
   "id": "550f3b46",
   "metadata": {},
   "outputs": [],
   "source": [
    "optimizer = tf.keras.optimizers.Adam(learning_rate=1e-4)   #taking the learning rate from the above figure\n",
    "model1.compile(loss=tf.keras.losses.Huber(),\n",
    "              optimizer=optimizer,\n",
    "               metrics = ['mae']\n",
    "              )"
   ]
  },
  {
   "cell_type": "code",
   "execution_count": 80,
   "id": "962552c9",
   "metadata": {},
   "outputs": [
    {
     "name": "stdout",
     "output_type": "stream",
     "text": [
      "Epoch 1/100\n",
      "11/11 [==============================] - 23s 30ms/step - loss: 3.3856 - mae: 3.8467\n",
      "Epoch 2/100\n",
      "11/11 [==============================] - 0s 29ms/step - loss: 3.2420 - mae: 3.7012\n",
      "Epoch 3/100\n",
      "11/11 [==============================] - 0s 24ms/step - loss: 3.1901 - mae: 3.6424\n",
      "Epoch 4/100\n",
      "11/11 [==============================] - 0s 41ms/step - loss: 3.2802 - mae: 3.7448\n",
      "Epoch 5/100\n",
      "11/11 [==============================] - 0s 23ms/step - loss: 3.2052 - mae: 3.6640\n",
      "Epoch 6/100\n",
      "11/11 [==============================] - 0s 24ms/step - loss: 3.2268 - mae: 3.6810\n",
      "Epoch 7/100\n",
      "11/11 [==============================] - 0s 41ms/step - loss: 3.2762 - mae: 3.7310\n",
      "Epoch 8/100\n",
      "11/11 [==============================] - 0s 25ms/step - loss: 3.2902 - mae: 3.7499\n",
      "Epoch 9/100\n",
      "11/11 [==============================] - 0s 28ms/step - loss: 3.3488 - mae: 3.8198\n",
      "Epoch 10/100\n",
      "11/11 [==============================] - 0s 39ms/step - loss: 3.2395 - mae: 3.7039\n",
      "Epoch 11/100\n",
      "11/11 [==============================] - 0s 25ms/step - loss: 3.4102 - mae: 3.8697\n",
      "Epoch 12/100\n",
      "11/11 [==============================] - 0s 23ms/step - loss: 3.1632 - mae: 3.6158\n",
      "Epoch 13/100\n",
      "11/11 [==============================] - 0s 41ms/step - loss: 3.3060 - mae: 3.7602\n",
      "Epoch 14/100\n",
      "11/11 [==============================] - 0s 23ms/step - loss: 3.1461 - mae: 3.6000\n",
      "Epoch 15/100\n",
      "11/11 [==============================] - 0s 23ms/step - loss: 3.1371 - mae: 3.5948\n",
      "Epoch 16/100\n",
      "11/11 [==============================] - 1s 45ms/step - loss: 3.1806 - mae: 3.6402\n",
      "Epoch 17/100\n",
      "11/11 [==============================] - 0s 34ms/step - loss: 3.1360 - mae: 3.5887\n",
      "Epoch 18/100\n",
      "11/11 [==============================] - 0s 25ms/step - loss: 3.2019 - mae: 3.6601\n",
      "Epoch 19/100\n",
      "11/11 [==============================] - 0s 35ms/step - loss: 3.2056 - mae: 3.6700\n",
      "Epoch 20/100\n",
      "11/11 [==============================] - 0s 27ms/step - loss: 3.1415 - mae: 3.5977\n",
      "Epoch 21/100\n",
      "11/11 [==============================] - 0s 23ms/step - loss: 3.1861 - mae: 3.6395\n",
      "Epoch 22/100\n",
      "11/11 [==============================] - 0s 31ms/step - loss: 3.1539 - mae: 3.5974\n",
      "Epoch 23/100\n",
      "11/11 [==============================] - 0s 31ms/step - loss: 3.1604 - mae: 3.6185\n",
      "Epoch 24/100\n",
      "11/11 [==============================] - 0s 26ms/step - loss: 3.1557 - mae: 3.6163\n",
      "Epoch 25/100\n",
      "11/11 [==============================] - 0s 36ms/step - loss: 3.5677 - mae: 4.0317\n",
      "Epoch 26/100\n",
      "11/11 [==============================] - 0s 27ms/step - loss: 3.5917 - mae: 4.0656\n",
      "Epoch 27/100\n",
      "11/11 [==============================] - 0s 27ms/step - loss: 3.6255 - mae: 4.0923\n",
      "Epoch 28/100\n",
      "11/11 [==============================] - 0s 37ms/step - loss: 3.6447 - mae: 4.1184\n",
      "Epoch 29/100\n",
      "11/11 [==============================] - 0s 26ms/step - loss: 3.5231 - mae: 3.9849\n",
      "Epoch 30/100\n",
      "11/11 [==============================] - 0s 23ms/step - loss: 3.2305 - mae: 3.6910\n",
      "Epoch 31/100\n",
      "11/11 [==============================] - 0s 31ms/step - loss: 3.3501 - mae: 3.8151\n",
      "Epoch 32/100\n",
      "11/11 [==============================] - 1s 31ms/step - loss: 3.1876 - mae: 3.6451\n",
      "Epoch 33/100\n",
      "11/11 [==============================] - 0s 25ms/step - loss: 3.3679 - mae: 3.8355\n",
      "Epoch 34/100\n",
      "11/11 [==============================] - 0s 30ms/step - loss: 3.4142 - mae: 3.8711\n",
      "Epoch 35/100\n",
      "11/11 [==============================] - 0s 31ms/step - loss: 3.7958 - mae: 4.2773\n",
      "Epoch 36/100\n",
      "11/11 [==============================] - 0s 26ms/step - loss: 3.6590 - mae: 4.1275\n",
      "Epoch 37/100\n",
      "11/11 [==============================] - 0s 36ms/step - loss: 3.2993 - mae: 3.7587\n",
      "Epoch 38/100\n",
      "11/11 [==============================] - 0s 30ms/step - loss: 3.2614 - mae: 3.7240\n",
      "Epoch 39/100\n",
      "11/11 [==============================] - 0s 26ms/step - loss: 3.1886 - mae: 3.6437\n",
      "Epoch 40/100\n",
      "11/11 [==============================] - 0s 30ms/step - loss: 3.1735 - mae: 3.6294\n",
      "Epoch 41/100\n",
      "11/11 [==============================] - 0s 28ms/step - loss: 3.2842 - mae: 3.7438\n",
      "Epoch 42/100\n",
      "11/11 [==============================] - 0s 28ms/step - loss: 3.2435 - mae: 3.7065\n",
      "Epoch 43/100\n",
      "11/11 [==============================] - 0s 41ms/step - loss: 3.1635 - mae: 3.6285\n",
      "Epoch 44/100\n",
      "11/11 [==============================] - 0s 27ms/step - loss: 3.1905 - mae: 3.6510\n",
      "Epoch 45/100\n",
      "11/11 [==============================] - 0s 24ms/step - loss: 3.0819 - mae: 3.5392\n",
      "Epoch 46/100\n",
      "11/11 [==============================] - 0s 36ms/step - loss: 3.1939 - mae: 3.6589\n",
      "Epoch 47/100\n",
      "11/11 [==============================] - 0s 27ms/step - loss: 3.3149 - mae: 3.7792\n",
      "Epoch 48/100\n",
      "11/11 [==============================] - 0s 26ms/step - loss: 3.2581 - mae: 3.7245\n",
      "Epoch 49/100\n",
      "11/11 [==============================] - 0s 32ms/step - loss: 3.4194 - mae: 3.8951\n",
      "Epoch 50/100\n",
      "11/11 [==============================] - 0s 28ms/step - loss: 3.5431 - mae: 4.0154\n",
      "Epoch 51/100\n",
      "11/11 [==============================] - 0s 28ms/step - loss: 3.1179 - mae: 3.5837\n",
      "Epoch 52/100\n",
      "11/11 [==============================] - 0s 39ms/step - loss: 3.0904 - mae: 3.5473\n",
      "Epoch 53/100\n",
      "11/11 [==============================] - 0s 27ms/step - loss: 3.1194 - mae: 3.5827\n",
      "Epoch 54/100\n",
      "11/11 [==============================] - 0s 23ms/step - loss: 3.0510 - mae: 3.5079\n",
      "Epoch 55/100\n",
      "11/11 [==============================] - 0s 35ms/step - loss: 3.0527 - mae: 3.5040\n",
      "Epoch 56/100\n",
      "11/11 [==============================] - 1s 33ms/step - loss: 3.0495 - mae: 3.4960\n",
      "Epoch 57/100\n",
      "11/11 [==============================] - 0s 31ms/step - loss: 3.0834 - mae: 3.5342\n",
      "Epoch 58/100\n",
      "11/11 [==============================] - 1s 50ms/step - loss: 3.3506 - mae: 3.8260\n",
      "Epoch 59/100\n",
      "11/11 [==============================] - 0s 33ms/step - loss: 3.3033 - mae: 3.7732\n",
      "Epoch 60/100\n",
      "11/11 [==============================] - 0s 31ms/step - loss: 3.3222 - mae: 3.7935\n",
      "Epoch 61/100\n",
      "11/11 [==============================] - 0s 28ms/step - loss: 3.3254 - mae: 3.7916\n",
      "Epoch 62/100\n",
      "11/11 [==============================] - 0s 32ms/step - loss: 3.3204 - mae: 3.7789\n",
      "Epoch 63/100\n",
      "11/11 [==============================] - 0s 23ms/step - loss: 3.1534 - mae: 3.6129\n",
      "Epoch 64/100\n",
      "11/11 [==============================] - 0s 24ms/step - loss: 3.2579 - mae: 3.7250\n",
      "Epoch 65/100\n",
      "11/11 [==============================] - 1s 44ms/step - loss: 3.0421 - mae: 3.4945\n",
      "Epoch 66/100\n",
      "11/11 [==============================] - 0s 25ms/step - loss: 3.1420 - mae: 3.6041\n",
      "Epoch 67/100\n",
      "11/11 [==============================] - 0s 27ms/step - loss: 3.2183 - mae: 3.6773\n",
      "Epoch 68/100\n",
      "11/11 [==============================] - 1s 40ms/step - loss: 3.1190 - mae: 3.5823\n",
      "Epoch 69/100\n",
      "11/11 [==============================] - 0s 24ms/step - loss: 3.0656 - mae: 3.5164\n",
      "Epoch 70/100\n",
      "11/11 [==============================] - 0s 33ms/step - loss: 3.0523 - mae: 3.4966\n",
      "Epoch 71/100\n",
      "11/11 [==============================] - 0s 30ms/step - loss: 3.0578 - mae: 3.5109\n",
      "Epoch 72/100\n",
      "11/11 [==============================] - 0s 23ms/step - loss: 3.0719 - mae: 3.5287\n",
      "Epoch 73/100\n",
      "11/11 [==============================] - 0s 34ms/step - loss: 3.1013 - mae: 3.5542\n",
      "Epoch 74/100\n",
      "11/11 [==============================] - 0s 31ms/step - loss: 3.0546 - mae: 3.5048\n",
      "Epoch 75/100\n",
      "11/11 [==============================] - 0s 27ms/step - loss: 3.0811 - mae: 3.5372\n",
      "Epoch 76/100\n",
      "11/11 [==============================] - 0s 40ms/step - loss: 3.1271 - mae: 3.5895\n",
      "Epoch 77/100\n",
      "11/11 [==============================] - 0s 27ms/step - loss: 3.1376 - mae: 3.6039\n",
      "Epoch 78/100\n",
      "11/11 [==============================] - 0s 28ms/step - loss: 3.1252 - mae: 3.5810\n",
      "Epoch 79/100\n",
      "11/11 [==============================] - 0s 39ms/step - loss: 3.0579 - mae: 3.5066\n",
      "Epoch 80/100\n",
      "11/11 [==============================] - 0s 24ms/step - loss: 3.0703 - mae: 3.5275\n",
      "Epoch 81/100\n",
      "11/11 [==============================] - 0s 24ms/step - loss: 3.3152 - mae: 3.7886\n",
      "Epoch 82/100\n",
      "11/11 [==============================] - 0s 41ms/step - loss: 3.5872 - mae: 4.0601\n",
      "Epoch 83/100\n",
      "11/11 [==============================] - 0s 27ms/step - loss: 3.3304 - mae: 3.7929\n",
      "Epoch 84/100\n",
      "11/11 [==============================] - 0s 30ms/step - loss: 3.4461 - mae: 3.9131\n",
      "Epoch 85/100\n",
      "11/11 [==============================] - 1s 33ms/step - loss: 3.0307 - mae: 3.4882\n",
      "Epoch 86/100\n",
      "11/11 [==============================] - 0s 24ms/step - loss: 3.2526 - mae: 3.7189\n",
      "Epoch 87/100\n",
      "11/11 [==============================] - 0s 37ms/step - loss: 3.0614 - mae: 3.5184\n",
      "Epoch 88/100\n",
      "11/11 [==============================] - 0s 33ms/step - loss: 3.0466 - mae: 3.4915\n",
      "Epoch 89/100\n",
      "11/11 [==============================] - 0s 25ms/step - loss: 3.0106 - mae: 3.4593\n",
      "Epoch 90/100\n",
      "11/11 [==============================] - 0s 26ms/step - loss: 3.0474 - mae: 3.5057\n",
      "Epoch 91/100\n",
      "11/11 [==============================] - 0s 36ms/step - loss: 3.0152 - mae: 3.4662\n",
      "Epoch 92/100\n",
      "11/11 [==============================] - 0s 28ms/step - loss: 3.1212 - mae: 3.5683\n",
      "Epoch 93/100\n",
      "11/11 [==============================] - 0s 28ms/step - loss: 3.0163 - mae: 3.4743\n",
      "Epoch 94/100\n",
      "11/11 [==============================] - 0s 38ms/step - loss: 3.0289 - mae: 3.4900\n",
      "Epoch 95/100\n",
      "11/11 [==============================] - 0s 24ms/step - loss: 3.0044 - mae: 3.4592\n",
      "Epoch 96/100\n",
      "11/11 [==============================] - 0s 23ms/step - loss: 3.0391 - mae: 3.4917\n",
      "Epoch 97/100\n",
      "11/11 [==============================] - 0s 31ms/step - loss: 3.0185 - mae: 3.4693\n",
      "Epoch 98/100\n",
      "11/11 [==============================] - 0s 30ms/step - loss: 3.0178 - mae: 3.4659\n",
      "Epoch 99/100\n",
      "11/11 [==============================] - 0s 25ms/step - loss: 2.9862 - mae: 3.4428\n",
      "Epoch 100/100\n",
      "11/11 [==============================] - 0s 39ms/step - loss: 3.0202 - mae: 3.4747\n"
     ]
    }
   ],
   "source": [
    "history = model1.fit(train_set,epochs=100)"
   ]
  },
  {
   "cell_type": "code",
   "execution_count": 81,
   "id": "b54e3f52",
   "metadata": {},
   "outputs": [
    {
     "data": {
      "text/plain": [
       "[<matplotlib.lines.Line2D at 0x1ac7fc21d60>]"
      ]
     },
     "execution_count": 81,
     "metadata": {},
     "output_type": "execute_result"
    },
    {
     "data": {
      "image/png": "[encoded data removed]",
      "text/plain": [
       "<Figure size 432x288 with 1 Axes>"
      ]
     },
     "metadata": {
      "needs_background": "light"
     },
     "output_type": "display_data"
    }
   ],
   "source": [
    "plt.plot(history.history['mae'])"
   ]
  },
  {
   "cell_type": "markdown",
   "id": "42c19900",
   "metadata": {},
   "source": [
    "## Forecasting on test data"
   ]
  },
  {
   "cell_type": "code",
   "execution_count": 82,
   "id": "897e9adc",
   "metadata": {},
   "outputs": [],
   "source": [
    "def model_forecast(model, series, window_size, batch_size):\n",
    "    \"\"\"Uses an input model to generate predictions on data windows\n",
    "\n",
    "    Args:\n",
    "      model (TF Keras Model) - model that accepts data windows\n",
    "      series (array of float) - contains the values of the time series\n",
    "      window_size (int) - the number of time steps to include in the window\n",
    "      batch_size (int) - the batch size\n",
    "\n",
    "    Returns:\n",
    "      forecast (numpy array) - array containing predictions\n",
    "    \"\"\"\n",
    "\n",
    "    # Generate a TF Dataset from the series values\n",
    "    dataset = tf.data.Dataset.from_tensor_slices(series)\n",
    "\n",
    "    # Window the data but only take those with the specified size\n",
    "    dataset = dataset.window(window_size, shift=1, drop_remainder=True)\n",
    "\n",
    "    # Flatten the windows by putting its elements in a single batch\n",
    "    dataset = dataset.flat_map(lambda w: w.batch(window_size))\n",
    "    \n",
    "    # Create batches of windows\n",
    "    dataset = dataset.batch(batch_size).prefetch(1)\n",
    "    \n",
    "    # Get predictions on the entire dataset\n",
    "    forecast = model.predict(dataset)\n",
    "    \n",
    "    return forecast"
   ]
  },
  {
   "cell_type": "code",
   "execution_count": 83,
   "id": "a39e7f65",
   "metadata": {},
   "outputs": [],
   "source": [
    "forecast_series = y[split_time-window_size:-1]"
   ]
  },
  {
   "cell_type": "code",
   "execution_count": 84,
   "id": "093e1993",
   "metadata": {},
   "outputs": [],
   "source": [
    "forecast = model_forecast(model1, forecast_series, window_size, batch_size)"
   ]
  },
  {
   "cell_type": "code",
   "execution_count": 85,
   "id": "d74962f9",
   "metadata": {},
   "outputs": [
    {
     "data": {
      "text/plain": [
       "(368, 1)"
      ]
     },
     "execution_count": 85,
     "metadata": {},
     "output_type": "execute_result"
    }
   ],
   "source": [
    "forecast.shape"
   ]
  },
  {
   "cell_type": "markdown",
   "id": "9773c8f5",
   "metadata": {},
   "source": [
    "## Plotting results"
   ]
  },
  {
   "cell_type": "code",
   "execution_count": 86,
   "id": "36b25592",
   "metadata": {},
   "outputs": [
    {
     "data": {
      "text/plain": [
       "[<matplotlib.lines.Line2D at 0x1ac0a6de6a0>]"
      ]
     },
     "execution_count": 86,
     "metadata": {},
     "output_type": "execute_result"
    },
    {
     "data": {
      "image/png": "[encoded data removed]",
      "text/plain": [
       "<Figure size 432x288 with 1 Axes>"
      ]
     },
     "metadata": {
      "needs_background": "light"
     },
     "output_type": "display_data"
    }
   ],
   "source": [
    "results = forecast.squeeze()\n",
    "plt.plot(time_valid,x_valid,label=\"Test data\")\n",
    "plt.plot(time_valid,results,label=\"Predicted value\")\n",
    "plt.xlabel('Days')\n",
    "plt.ylabel('Power consumption (kW)')\n",
    "plt.title('Test vs Predicted data')\n",
    "plt.legend()\n",
    "plt.show()"
   ]
  },
  {
   "cell_type": "code",
   "execution_count": 87,
   "id": "1da2c595",
   "metadata": {},
   "outputs": [
    {
     "name": "stdout",
     "output_type": "stream",
     "text": [
      "3.790684\n"
     ]
    }
   ],
   "source": [
    "print(tf.keras.metrics.mean_absolute_error(x_valid, results).numpy())"
   ]
  },
  {
   "cell_type": "code",
   "execution_count": null,
   "id": "7b218a77",
   "metadata": {},
   "outputs": [],
   "source": []
  }
 ],
 "metadata": {
  "kernelspec": {
   "display_name": "Python 3",
   "language": "python",
   "name": "python3"
  },
  "language_info": {
   "codemirror_mode": {
    "name": "ipython",
    "version": 3
   },
   "file_extension": ".py",
   "mimetype": "text/x-python",
   "name": "python",
   "nbconvert_exporter": "python",
   "pygments_lexer": "ipython3",
   "version": "3.8.8"
  }
 },
 "nbformat": 4,
 "nbformat_minor": 5
}
