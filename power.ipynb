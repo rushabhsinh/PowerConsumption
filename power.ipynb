{
 "cells": [
  {
   "cell_type": "markdown",
   "id": "b1b5d2da",
   "metadata": {},
   "source": [
    "# Predicting the power consumption trend"
   ]
  },
  {
   "cell_type": "code",
   "execution_count": 1,
   "id": "3a059a4d",
   "metadata": {},
   "outputs": [],
   "source": [
    "import tensorflow as tf\n",
    "import seaborn as sns\n",
    "import numpy as np\n",
    "import matplotlib.pyplot as plt\n",
    "import pandas as pd"
   ]
  },
  {
   "cell_type": "code",
   "execution_count": 2,
   "id": "76d26aac",
   "metadata": {},
   "outputs": [
    {
     "data": {
      "text/html": [
       "<div>\n",
       "<style scoped>\n",
       "    .dataframe tbody tr th:only-of-type {\n",
       "        vertical-align: middle;\n",
       "    }\n",
       "\n",
       "    .dataframe tbody tr th {\n",
       "        vertical-align: top;\n",
       "    }\n",
       "\n",
       "    .dataframe thead th {\n",
       "        text-align: right;\n",
       "    }\n",
       "</style>\n",
       "<table border=\"1\" class=\"dataframe\">\n",
       "  <thead>\n",
       "    <tr style=\"text-align: right;\">\n",
       "      <th></th>\n",
       "      <th>TYPE</th>\n",
       "      <th>DATE</th>\n",
       "      <th>START TIME</th>\n",
       "      <th>END TIME</th>\n",
       "      <th>USAGE</th>\n",
       "      <th>UNITS</th>\n",
       "      <th>COST</th>\n",
       "      <th>NOTES</th>\n",
       "    </tr>\n",
       "  </thead>\n",
       "  <tbody>\n",
       "    <tr>\n",
       "      <th>0</th>\n",
       "      <td>Electric usage</td>\n",
       "      <td>10/22/2016</td>\n",
       "      <td>0:00</td>\n",
       "      <td>0:14</td>\n",
       "      <td>0.01</td>\n",
       "      <td>kWh</td>\n",
       "      <td>$0.00</td>\n",
       "      <td>NaN</td>\n",
       "    </tr>\n",
       "    <tr>\n",
       "      <th>1</th>\n",
       "      <td>Electric usage</td>\n",
       "      <td>10/22/2016</td>\n",
       "      <td>0:15</td>\n",
       "      <td>0:29</td>\n",
       "      <td>0.01</td>\n",
       "      <td>kWh</td>\n",
       "      <td>$0.00</td>\n",
       "      <td>NaN</td>\n",
       "    </tr>\n",
       "    <tr>\n",
       "      <th>2</th>\n",
       "      <td>Electric usage</td>\n",
       "      <td>10/22/2016</td>\n",
       "      <td>0:30</td>\n",
       "      <td>0:44</td>\n",
       "      <td>0.01</td>\n",
       "      <td>kWh</td>\n",
       "      <td>$0.00</td>\n",
       "      <td>NaN</td>\n",
       "    </tr>\n",
       "    <tr>\n",
       "      <th>3</th>\n",
       "      <td>Electric usage</td>\n",
       "      <td>10/22/2016</td>\n",
       "      <td>0:45</td>\n",
       "      <td>0:59</td>\n",
       "      <td>0.01</td>\n",
       "      <td>kWh</td>\n",
       "      <td>$0.00</td>\n",
       "      <td>NaN</td>\n",
       "    </tr>\n",
       "    <tr>\n",
       "      <th>4</th>\n",
       "      <td>Electric usage</td>\n",
       "      <td>10/22/2016</td>\n",
       "      <td>1:00</td>\n",
       "      <td>1:14</td>\n",
       "      <td>0.01</td>\n",
       "      <td>kWh</td>\n",
       "      <td>$0.00</td>\n",
       "      <td>NaN</td>\n",
       "    </tr>\n",
       "    <tr>\n",
       "      <th>...</th>\n",
       "      <td>...</td>\n",
       "      <td>...</td>\n",
       "      <td>...</td>\n",
       "      <td>...</td>\n",
       "      <td>...</td>\n",
       "      <td>...</td>\n",
       "      <td>...</td>\n",
       "      <td>...</td>\n",
       "    </tr>\n",
       "    <tr>\n",
       "      <th>70363</th>\n",
       "      <td>Electric usage</td>\n",
       "      <td>10/24/2018</td>\n",
       "      <td>22:45</td>\n",
       "      <td>22:59</td>\n",
       "      <td>0.02</td>\n",
       "      <td>kWh</td>\n",
       "      <td>$0.00</td>\n",
       "      <td>NaN</td>\n",
       "    </tr>\n",
       "    <tr>\n",
       "      <th>70364</th>\n",
       "      <td>Electric usage</td>\n",
       "      <td>10/24/2018</td>\n",
       "      <td>23:00</td>\n",
       "      <td>23:14</td>\n",
       "      <td>0.03</td>\n",
       "      <td>kWh</td>\n",
       "      <td>$0.01</td>\n",
       "      <td>NaN</td>\n",
       "    </tr>\n",
       "    <tr>\n",
       "      <th>70365</th>\n",
       "      <td>Electric usage</td>\n",
       "      <td>10/24/2018</td>\n",
       "      <td>23:15</td>\n",
       "      <td>23:29</td>\n",
       "      <td>0.03</td>\n",
       "      <td>kWh</td>\n",
       "      <td>$0.01</td>\n",
       "      <td>NaN</td>\n",
       "    </tr>\n",
       "    <tr>\n",
       "      <th>70366</th>\n",
       "      <td>Electric usage</td>\n",
       "      <td>10/24/2018</td>\n",
       "      <td>23:30</td>\n",
       "      <td>23:44</td>\n",
       "      <td>0.03</td>\n",
       "      <td>kWh</td>\n",
       "      <td>$0.01</td>\n",
       "      <td>NaN</td>\n",
       "    </tr>\n",
       "    <tr>\n",
       "      <th>70367</th>\n",
       "      <td>Electric usage</td>\n",
       "      <td>10/24/2018</td>\n",
       "      <td>23:45</td>\n",
       "      <td>23:59</td>\n",
       "      <td>0.03</td>\n",
       "      <td>kWh</td>\n",
       "      <td>$0.01</td>\n",
       "      <td>NaN</td>\n",
       "    </tr>\n",
       "  </tbody>\n",
       "</table>\n",
       "<p>70368 rows × 8 columns</p>\n",
       "</div>"
      ],
      "text/plain": [
       "                 TYPE        DATE START TIME END TIME  USAGE UNITS    COST  \\\n",
       "0      Electric usage  10/22/2016       0:00     0:14   0.01   kWh  $0.00    \n",
       "1      Electric usage  10/22/2016       0:15     0:29   0.01   kWh  $0.00    \n",
       "2      Electric usage  10/22/2016       0:30     0:44   0.01   kWh  $0.00    \n",
       "3      Electric usage  10/22/2016       0:45     0:59   0.01   kWh  $0.00    \n",
       "4      Electric usage  10/22/2016       1:00     1:14   0.01   kWh  $0.00    \n",
       "...               ...         ...        ...      ...    ...   ...     ...   \n",
       "70363  Electric usage  10/24/2018      22:45    22:59   0.02   kWh  $0.00    \n",
       "70364  Electric usage  10/24/2018      23:00    23:14   0.03   kWh  $0.01    \n",
       "70365  Electric usage  10/24/2018      23:15    23:29   0.03   kWh  $0.01    \n",
       "70366  Electric usage  10/24/2018      23:30    23:44   0.03   kWh  $0.01    \n",
       "70367  Electric usage  10/24/2018      23:45    23:59   0.03   kWh  $0.01    \n",
       "\n",
       "       NOTES  \n",
       "0        NaN  \n",
       "1        NaN  \n",
       "2        NaN  \n",
       "3        NaN  \n",
       "4        NaN  \n",
       "...      ...  \n",
       "70363    NaN  \n",
       "70364    NaN  \n",
       "70365    NaN  \n",
       "70366    NaN  \n",
       "70367    NaN  \n",
       "\n",
       "[70368 rows x 8 columns]"
      ]
     },
     "execution_count": 2,
     "metadata": {},
     "output_type": "execute_result"
    }
   ],
   "source": [
    "data = pd.read_csv('D202.csv')\n",
    "data"
   ]
  },
  {
   "cell_type": "markdown",
   "id": "6dae5d3f",
   "metadata": {},
   "source": [
    "The data shows each time there is a power consumption with start time and end time. We are only interested in total daily consumption. Also, there are a lot of columns which are not required"
   ]
  },
  {
   "cell_type": "markdown",
   "id": "1c608917",
   "metadata": {},
   "source": [
    "## Cleaning the data"
   ]
  },
  {
   "cell_type": "code",
   "execution_count": 3,
   "id": "3ad5503c",
   "metadata": {},
   "outputs": [],
   "source": [
    "data.drop('NOTES', axis = 1, inplace = True)"
   ]
  },
  {
   "cell_type": "code",
   "execution_count": 4,
   "id": "3f6a9d21",
   "metadata": {},
   "outputs": [
    {
     "name": "stdout",
     "output_type": "stream",
     "text": [
      "<class 'pandas.core.frame.DataFrame'>\n",
      "RangeIndex: 70368 entries, 0 to 70367\n",
      "Data columns (total 7 columns):\n",
      " #   Column      Non-Null Count  Dtype  \n",
      "---  ------      --------------  -----  \n",
      " 0   TYPE        70368 non-null  object \n",
      " 1   DATE        70368 non-null  object \n",
      " 2   START TIME  70368 non-null  object \n",
      " 3   END TIME    70368 non-null  object \n",
      " 4   USAGE       70368 non-null  float64\n",
      " 5   UNITS       70368 non-null  object \n",
      " 6   COST        70368 non-null  object \n",
      "dtypes: float64(1), object(6)\n",
      "memory usage: 3.8+ MB\n"
     ]
    }
   ],
   "source": [
    "data.info()"
   ]
  },
  {
   "cell_type": "code",
   "execution_count": 5,
   "id": "c73626db",
   "metadata": {},
   "outputs": [
    {
     "data": {
      "text/plain": [
       "TYPE          False\n",
       "DATE          False\n",
       "START TIME    False\n",
       "END TIME      False\n",
       "USAGE         False\n",
       "UNITS         False\n",
       "COST          False\n",
       "dtype: bool"
      ]
     },
     "execution_count": 5,
     "metadata": {},
     "output_type": "execute_result"
    }
   ],
   "source": [
    "data.isnull().any()  #checking for null"
   ]
  },
  {
   "cell_type": "code",
   "execution_count": 6,
   "id": "705a9525",
   "metadata": {},
   "outputs": [],
   "source": [
    "y= data['USAGE'].values\n",
    "X= np.arange(y.shape[0])"
   ]
  },
  {
   "cell_type": "code",
   "execution_count": 7,
   "id": "515b181c",
   "metadata": {},
   "outputs": [
    {
     "data": {
      "text/plain": [
       "[<matplotlib.lines.Line2D at 0x2104be8f8b0>]"
      ]
     },
     "execution_count": 7,
     "metadata": {},
     "output_type": "execute_result"
    },
    {
     "data": {
      "image/png": "[encoded data removed]",
      "text/plain": [
       "<Figure size 432x288 with 1 Axes>"
      ]
     },
     "metadata": {
      "needs_background": "light"
     },
     "output_type": "display_data"
    }
   ],
   "source": [
    "plt.plot(X[:1000],y[:1000])"
   ]
  },
  {
   "cell_type": "code",
   "execution_count": 8,
   "id": "eacec8c5",
   "metadata": {},
   "outputs": [],
   "source": [
    "df2 = data.copy(deep = True)\n",
    "df2.drop(columns = ['START TIME','END TIME','UNITS','COST','TYPE'], inplace =True)\n"
   ]
  },
  {
   "cell_type": "code",
   "execution_count": 9,
   "id": "a06fa3d0",
   "metadata": {},
   "outputs": [
    {
     "data": {
      "text/html": [
       "<div>\n",
       "<style scoped>\n",
       "    .dataframe tbody tr th:only-of-type {\n",
       "        vertical-align: middle;\n",
       "    }\n",
       "\n",
       "    .dataframe tbody tr th {\n",
       "        vertical-align: top;\n",
       "    }\n",
       "\n",
       "    .dataframe thead th {\n",
       "        text-align: right;\n",
       "    }\n",
       "</style>\n",
       "<table border=\"1\" class=\"dataframe\">\n",
       "  <thead>\n",
       "    <tr style=\"text-align: right;\">\n",
       "      <th></th>\n",
       "      <th>DATE</th>\n",
       "      <th>USAGE</th>\n",
       "    </tr>\n",
       "  </thead>\n",
       "  <tbody>\n",
       "    <tr>\n",
       "      <th>0</th>\n",
       "      <td>10/22/2016</td>\n",
       "      <td>0.01</td>\n",
       "    </tr>\n",
       "    <tr>\n",
       "      <th>1</th>\n",
       "      <td>10/22/2016</td>\n",
       "      <td>0.01</td>\n",
       "    </tr>\n",
       "    <tr>\n",
       "      <th>2</th>\n",
       "      <td>10/22/2016</td>\n",
       "      <td>0.01</td>\n",
       "    </tr>\n",
       "    <tr>\n",
       "      <th>3</th>\n",
       "      <td>10/22/2016</td>\n",
       "      <td>0.01</td>\n",
       "    </tr>\n",
       "    <tr>\n",
       "      <th>4</th>\n",
       "      <td>10/22/2016</td>\n",
       "      <td>0.01</td>\n",
       "    </tr>\n",
       "    <tr>\n",
       "      <th>...</th>\n",
       "      <td>...</td>\n",
       "      <td>...</td>\n",
       "    </tr>\n",
       "    <tr>\n",
       "      <th>70363</th>\n",
       "      <td>10/24/2018</td>\n",
       "      <td>0.02</td>\n",
       "    </tr>\n",
       "    <tr>\n",
       "      <th>70364</th>\n",
       "      <td>10/24/2018</td>\n",
       "      <td>0.03</td>\n",
       "    </tr>\n",
       "    <tr>\n",
       "      <th>70365</th>\n",
       "      <td>10/24/2018</td>\n",
       "      <td>0.03</td>\n",
       "    </tr>\n",
       "    <tr>\n",
       "      <th>70366</th>\n",
       "      <td>10/24/2018</td>\n",
       "      <td>0.03</td>\n",
       "    </tr>\n",
       "    <tr>\n",
       "      <th>70367</th>\n",
       "      <td>10/24/2018</td>\n",
       "      <td>0.03</td>\n",
       "    </tr>\n",
       "  </tbody>\n",
       "</table>\n",
       "<p>70368 rows × 2 columns</p>\n",
       "</div>"
      ],
      "text/plain": [
       "             DATE  USAGE\n",
       "0      10/22/2016   0.01\n",
       "1      10/22/2016   0.01\n",
       "2      10/22/2016   0.01\n",
       "3      10/22/2016   0.01\n",
       "4      10/22/2016   0.01\n",
       "...           ...    ...\n",
       "70363  10/24/2018   0.02\n",
       "70364  10/24/2018   0.03\n",
       "70365  10/24/2018   0.03\n",
       "70366  10/24/2018   0.03\n",
       "70367  10/24/2018   0.03\n",
       "\n",
       "[70368 rows x 2 columns]"
      ]
     },
     "execution_count": 9,
     "metadata": {},
     "output_type": "execute_result"
    }
   ],
   "source": [
    "df2"
   ]
  },
  {
   "cell_type": "markdown",
   "id": "bee3aeb2",
   "metadata": {},
   "source": [
    "### Grouping the power consumption date-wise"
   ]
  },
  {
   "cell_type": "code",
   "execution_count": 10,
   "id": "d71a0cf6",
   "metadata": {},
   "outputs": [
    {
     "name": "stdout",
     "output_type": "stream",
     "text": [
      "<class 'str'>\n"
     ]
    }
   ],
   "source": [
    "print(type(df2.DATE[0]))"
   ]
  },
  {
   "cell_type": "code",
   "execution_count": 11,
   "id": "ae2f78e6",
   "metadata": {},
   "outputs": [],
   "source": [
    "df2['DATE'] = pd.to_datetime(df2['DATE'])"
   ]
  },
  {
   "cell_type": "code",
   "execution_count": 12,
   "id": "a8e63a00",
   "metadata": {},
   "outputs": [
    {
     "name": "stdout",
     "output_type": "stream",
     "text": [
      "<class 'pandas._libs.tslibs.timestamps.Timestamp'>\n"
     ]
    }
   ],
   "source": [
    "print(type(df2.DATE[0]))"
   ]
  },
  {
   "cell_type": "code",
   "execution_count": 13,
   "id": "8773347e",
   "metadata": {},
   "outputs": [],
   "source": [
    "group_days = df2.groupby('DATE')"
   ]
  },
  {
   "cell_type": "code",
   "execution_count": 14,
   "id": "f57af706",
   "metadata": {},
   "outputs": [],
   "source": [
    "df3 = group_days.sum()"
   ]
  },
  {
   "cell_type": "code",
   "execution_count": 15,
   "id": "c4537f1c",
   "metadata": {},
   "outputs": [
    {
     "data": {
      "text/html": [
       "<div>\n",
       "<style scoped>\n",
       "    .dataframe tbody tr th:only-of-type {\n",
       "        vertical-align: middle;\n",
       "    }\n",
       "\n",
       "    .dataframe tbody tr th {\n",
       "        vertical-align: top;\n",
       "    }\n",
       "\n",
       "    .dataframe thead th {\n",
       "        text-align: right;\n",
       "    }\n",
       "</style>\n",
       "<table border=\"1\" class=\"dataframe\">\n",
       "  <thead>\n",
       "    <tr style=\"text-align: right;\">\n",
       "      <th></th>\n",
       "      <th>USAGE</th>\n",
       "    </tr>\n",
       "    <tr>\n",
       "      <th>DATE</th>\n",
       "      <th></th>\n",
       "    </tr>\n",
       "  </thead>\n",
       "  <tbody>\n",
       "    <tr>\n",
       "      <th>2016-10-22</th>\n",
       "      <td>4.52</td>\n",
       "    </tr>\n",
       "    <tr>\n",
       "      <th>2016-10-23</th>\n",
       "      <td>23.32</td>\n",
       "    </tr>\n",
       "    <tr>\n",
       "      <th>2016-10-24</th>\n",
       "      <td>7.16</td>\n",
       "    </tr>\n",
       "    <tr>\n",
       "      <th>2016-10-25</th>\n",
       "      <td>8.68</td>\n",
       "    </tr>\n",
       "    <tr>\n",
       "      <th>2016-10-26</th>\n",
       "      <td>5.04</td>\n",
       "    </tr>\n",
       "    <tr>\n",
       "      <th>...</th>\n",
       "      <td>...</td>\n",
       "    </tr>\n",
       "    <tr>\n",
       "      <th>2018-10-20</th>\n",
       "      <td>8.00</td>\n",
       "    </tr>\n",
       "    <tr>\n",
       "      <th>2018-10-21</th>\n",
       "      <td>1.12</td>\n",
       "    </tr>\n",
       "    <tr>\n",
       "      <th>2018-10-22</th>\n",
       "      <td>0.64</td>\n",
       "    </tr>\n",
       "    <tr>\n",
       "      <th>2018-10-23</th>\n",
       "      <td>1.20</td>\n",
       "    </tr>\n",
       "    <tr>\n",
       "      <th>2018-10-24</th>\n",
       "      <td>1.92</td>\n",
       "    </tr>\n",
       "  </tbody>\n",
       "</table>\n",
       "<p>733 rows × 1 columns</p>\n",
       "</div>"
      ],
      "text/plain": [
       "            USAGE\n",
       "DATE             \n",
       "2016-10-22   4.52\n",
       "2016-10-23  23.32\n",
       "2016-10-24   7.16\n",
       "2016-10-25   8.68\n",
       "2016-10-26   5.04\n",
       "...           ...\n",
       "2018-10-20   8.00\n",
       "2018-10-21   1.12\n",
       "2018-10-22   0.64\n",
       "2018-10-23   1.20\n",
       "2018-10-24   1.92\n",
       "\n",
       "[733 rows x 1 columns]"
      ]
     },
     "execution_count": 15,
     "metadata": {},
     "output_type": "execute_result"
    }
   ],
   "source": [
    "df3"
   ]
  },
  {
   "cell_type": "code",
   "execution_count": 16,
   "id": "75917d31",
   "metadata": {},
   "outputs": [
    {
     "data": {
      "text/html": [
       "<div>\n",
       "<style scoped>\n",
       "    .dataframe tbody tr th:only-of-type {\n",
       "        vertical-align: middle;\n",
       "    }\n",
       "\n",
       "    .dataframe tbody tr th {\n",
       "        vertical-align: top;\n",
       "    }\n",
       "\n",
       "    .dataframe thead th {\n",
       "        text-align: right;\n",
       "    }\n",
       "</style>\n",
       "<table border=\"1\" class=\"dataframe\">\n",
       "  <thead>\n",
       "    <tr style=\"text-align: right;\">\n",
       "      <th></th>\n",
       "      <th>USAGE</th>\n",
       "    </tr>\n",
       "    <tr>\n",
       "      <th>DATE</th>\n",
       "      <th></th>\n",
       "    </tr>\n",
       "  </thead>\n",
       "  <tbody>\n",
       "    <tr>\n",
       "      <th>2016-10-22</th>\n",
       "      <td>4.52</td>\n",
       "    </tr>\n",
       "    <tr>\n",
       "      <th>2016-10-23</th>\n",
       "      <td>23.32</td>\n",
       "    </tr>\n",
       "    <tr>\n",
       "      <th>2016-10-24</th>\n",
       "      <td>7.16</td>\n",
       "    </tr>\n",
       "    <tr>\n",
       "      <th>2016-10-25</th>\n",
       "      <td>8.68</td>\n",
       "    </tr>\n",
       "    <tr>\n",
       "      <th>2016-10-26</th>\n",
       "      <td>5.04</td>\n",
       "    </tr>\n",
       "    <tr>\n",
       "      <th>...</th>\n",
       "      <td>...</td>\n",
       "    </tr>\n",
       "    <tr>\n",
       "      <th>2018-10-20</th>\n",
       "      <td>8.00</td>\n",
       "    </tr>\n",
       "    <tr>\n",
       "      <th>2018-10-21</th>\n",
       "      <td>1.12</td>\n",
       "    </tr>\n",
       "    <tr>\n",
       "      <th>2018-10-22</th>\n",
       "      <td>0.64</td>\n",
       "    </tr>\n",
       "    <tr>\n",
       "      <th>2018-10-23</th>\n",
       "      <td>1.20</td>\n",
       "    </tr>\n",
       "    <tr>\n",
       "      <th>2018-10-24</th>\n",
       "      <td>1.92</td>\n",
       "    </tr>\n",
       "  </tbody>\n",
       "</table>\n",
       "<p>733 rows × 1 columns</p>\n",
       "</div>"
      ],
      "text/plain": [
       "            USAGE\n",
       "DATE             \n",
       "2016-10-22   4.52\n",
       "2016-10-23  23.32\n",
       "2016-10-24   7.16\n",
       "2016-10-25   8.68\n",
       "2016-10-26   5.04\n",
       "...           ...\n",
       "2018-10-20   8.00\n",
       "2018-10-21   1.12\n",
       "2018-10-22   0.64\n",
       "2018-10-23   1.20\n",
       "2018-10-24   1.92\n",
       "\n",
       "[733 rows x 1 columns]"
      ]
     },
     "execution_count": 16,
     "metadata": {},
     "output_type": "execute_result"
    }
   ],
   "source": [
    "df3.sort_values(by='DATE')\n",
    "df3"
   ]
  },
  {
   "cell_type": "code",
   "execution_count": 17,
   "id": "b285e73a",
   "metadata": {},
   "outputs": [
    {
     "name": "stderr",
     "output_type": "stream",
     "text": [
      "C:\\Users\\Dell\\anaconda3\\lib\\site-packages\\seaborn\\distributions.py:2557: FutureWarning: `distplot` is a deprecated function and will be removed in a future version. Please adapt your code to use either `displot` (a figure-level function with similar flexibility) or `histplot` (an axes-level function for histograms).\n",
      "  warnings.warn(msg, FutureWarning)\n"
     ]
    },
    {
     "data": {
      "text/plain": [
       "<AxesSubplot:xlabel='USAGE', ylabel='Density'>"
      ]
     },
     "execution_count": 17,
     "metadata": {},
     "output_type": "execute_result"
    },
    {
     "data": {
      "image/png": "[encoded data removed]",
      "text/plain": [
       "<Figure size 432x288 with 1 Axes>"
      ]
     },
     "metadata": {
      "needs_background": "light"
     },
     "output_type": "display_data"
    }
   ],
   "source": [
    "sns.distplot(data['USAGE'])"
   ]
  },
  {
   "cell_type": "markdown",
   "id": "1f30d581",
   "metadata": {},
   "source": [
    "## Plotting the data"
   ]
  },
  {
   "cell_type": "code",
   "execution_count": 18,
   "id": "b11a18eb",
   "metadata": {},
   "outputs": [],
   "source": [
    "y= df3['USAGE'].values\n",
    "X= np.arange(y.shape[0])"
   ]
  },
  {
   "cell_type": "code",
   "execution_count": 19,
   "id": "c7083475",
   "metadata": {},
   "outputs": [
    {
     "data": {
      "image/png": "[encoded data removed]",
      "text/plain": [
       "<Figure size 432x288 with 1 Axes>"
      ]
     },
     "metadata": {
      "needs_background": "light"
     },
     "output_type": "display_data"
    }
   ],
   "source": [
    "plt.plot(X,y,'-',label=\"Test data\")\n",
    "plt.xlabel('Days')\n",
    "plt.ylabel('Power consumption (kW)')\n",
    "plt.title('Training data')\n",
    "plt.legend()\n",
    "plt.show()"
   ]
  },
  {
   "cell_type": "markdown",
   "id": "e24762a0",
   "metadata": {},
   "source": [
    "### Splitting the data\n",
    "Using the split at 365 days to capture yearly trend"
   ]
  },
  {
   "cell_type": "code",
   "execution_count": 20,
   "id": "a810c4fe",
   "metadata": {},
   "outputs": [],
   "source": [
    "# Define the split time\n",
    "split_time = 365\n",
    "\n",
    "# Get the train set \n",
    "x_train = y[:split_time]\n",
    "time_train = X[:split_time]\n",
    "\n",
    "# Get the validation set\n",
    "x_valid = y[split_time:]\n",
    "time_valid = X[split_time:]"
   ]
  },
  {
   "cell_type": "markdown",
   "id": "4b6fa343",
   "metadata": {},
   "source": [
    "Preparing the dataset"
   ]
  },
  {
   "cell_type": "code",
   "execution_count": 21,
   "id": "6f9057df",
   "metadata": {},
   "outputs": [],
   "source": [
    "def windowed_dataset(series, window_size, batch_size, shuffle_buffer):\n",
    "    \"\"\"Generates dataset windows\n",
    "\n",
    "    Args:\n",
    "      series (array of float) - contains the values of the time series\n",
    "      window_size (int) - the number of time steps to include in the feature\n",
    "      batch_size (int) - the batch size\n",
    "      shuffle_buffer(int) - buffer size to use for the shuffle method\n",
    "\n",
    "    Returns:\n",
    "      dataset (TF Dataset) - TF Dataset containing time windows\n",
    "    \"\"\"\n",
    "  \n",
    "    # Generate a TF Dataset from the series values\n",
    "    dataset = tf.data.Dataset.from_tensor_slices(series)\n",
    "    \n",
    "    # Window the data but only take those with the specified size\n",
    "    dataset = dataset.window(window_size + 1, shift=1, drop_remainder=True)\n",
    "    \n",
    "    # Flatten the windows by putting its elements in a single batch\n",
    "    dataset = dataset.flat_map(lambda window: window.batch(window_size + 1))\n",
    "\n",
    "    # Create tuples with features and labels \n",
    "    dataset = dataset.map(lambda window: (window[:-1], window[-1]))\n",
    "\n",
    "    # Shuffle the windows\n",
    "    dataset = dataset.shuffle(shuffle_buffer)\n",
    "    \n",
    "    # Create batches of windows\n",
    "    dataset = dataset.batch(batch_size).prefetch(1)\n",
    "    \n",
    "    return dataset"
   ]
  },
  {
   "cell_type": "code",
   "execution_count": 22,
   "id": "ab616160",
   "metadata": {},
   "outputs": [],
   "source": [
    "# Parameters\n",
    "window_size = 20\n",
    "batch_size = 32\n",
    "shuffle_buffer_size = 100\n",
    "\n",
    "# Generate the dataset windows\n",
    "train_set = windowed_dataset(x_train, window_size, batch_size, shuffle_buffer_size)"
   ]
  },
  {
   "cell_type": "markdown",
   "id": "bf8d3da9",
   "metadata": {},
   "source": [
    "## Model"
   ]
  },
  {
   "cell_type": "code",
   "execution_count": 23,
   "id": "a7fadfc4",
   "metadata": {},
   "outputs": [
    {
     "name": "stdout",
     "output_type": "stream",
     "text": [
      "Model: \"sequential\"\n",
      "_________________________________________________________________\n",
      " Layer (type)                Output Shape              Param #   \n",
      "=================================================================\n",
      " lambda (Lambda)             (None, 20, 1)             0         \n",
      "                                                                 \n",
      " bidirectional (Bidirectiona  (None, 20, 64)           8704      \n",
      " l)                                                              \n",
      "                                                                 \n",
      " bidirectional_1 (Bidirectio  (None, 64)               24832     \n",
      " nal)                                                            \n",
      "                                                                 \n",
      " dense (Dense)               (None, 10)                650       \n",
      "                                                                 \n",
      " dense_1 (Dense)             (None, 1)                 11        \n",
      "                                                                 \n",
      " lambda_1 (Lambda)           (None, 1)                 0         \n",
      "                                                                 \n",
      "=================================================================\n",
      "Total params: 34,197\n",
      "Trainable params: 34,197\n",
      "Non-trainable params: 0\n",
      "_________________________________________________________________\n"
     ]
    }
   ],
   "source": [
    "# Build the Model\n",
    "model1 = tf.keras.models.Sequential([\n",
    "  tf.keras.layers.Lambda(lambda x: tf.expand_dims(x, axis=-1),\n",
    "                      input_shape=[window_size]),\n",
    "  tf.keras.layers.Bidirectional(tf.keras.layers.LSTM(32, return_sequences=True)),\n",
    "  tf.keras.layers.Bidirectional(tf.keras.layers.LSTM(32)),\n",
    "  tf.keras.layers.Dense(10, activation=\"relu\"),\n",
    "  tf.keras.layers.Dense(1),\n",
    "  tf.keras.layers.Lambda(lambda x: x * 400)\n",
    "])\n",
    "\n",
    " # Print the model summary \n",
    "model1.summary()"
   ]
  },
  {
   "cell_type": "markdown",
   "id": "12f53804",
   "metadata": {},
   "source": [
    "Finding best learning rate using callbacks"
   ]
  },
  {
   "cell_type": "code",
   "execution_count": 24,
   "id": "aa173f4c",
   "metadata": {},
   "outputs": [
    {
     "name": "stdout",
     "output_type": "stream",
     "text": [
      "Epoch 1/100\n",
      "11/11 [==============================] - 9s 143ms/step - loss: 178.9287 - lr: 1.0000e-08\n",
      "Epoch 2/100\n",
      "11/11 [==============================] - 0s 21ms/step - loss: 178.9113 - lr: 1.1220e-08\n",
      "Epoch 3/100\n",
      "11/11 [==============================] - 0s 21ms/step - loss: 178.8914 - lr: 1.2589e-08\n",
      "Epoch 4/100\n",
      "11/11 [==============================] - 0s 21ms/step - loss: 178.8694 - lr: 1.4125e-08\n",
      "Epoch 5/100\n",
      "11/11 [==============================] - 0s 21ms/step - loss: 178.8460 - lr: 1.5849e-08\n",
      "Epoch 6/100\n",
      "11/11 [==============================] - 0s 22ms/step - loss: 178.8210 - lr: 1.7783e-08\n",
      "Epoch 7/100\n",
      "11/11 [==============================] - 0s 22ms/step - loss: 178.7931 - lr: 1.9953e-08\n",
      "Epoch 8/100\n",
      "11/11 [==============================] - 0s 23ms/step - loss: 178.7609 - lr: 2.2387e-08\n",
      "Epoch 9/100\n",
      "11/11 [==============================] - 0s 22ms/step - loss: 178.7236 - lr: 2.5119e-08\n",
      "Epoch 10/100\n",
      "11/11 [==============================] - 0s 21ms/step - loss: 178.6809 - lr: 2.8184e-08\n",
      "Epoch 11/100\n",
      "11/11 [==============================] - 0s 21ms/step - loss: 178.6339 - lr: 3.1623e-08\n",
      "Epoch 12/100\n",
      "11/11 [==============================] - 0s 21ms/step - loss: 178.5828 - lr: 3.5481e-08\n",
      "Epoch 13/100\n",
      "11/11 [==============================] - 0s 21ms/step - loss: 178.5243 - lr: 3.9811e-08\n",
      "Epoch 14/100\n",
      "11/11 [==============================] - 0s 22ms/step - loss: 178.4577 - lr: 4.4668e-08\n",
      "Epoch 15/100\n",
      "11/11 [==============================] - 0s 22ms/step - loss: 178.3840 - lr: 5.0119e-08\n",
      "Epoch 16/100\n",
      "11/11 [==============================] - 0s 23ms/step - loss: 178.3008 - lr: 5.6234e-08\n",
      "Epoch 17/100\n",
      "11/11 [==============================] - 0s 23ms/step - loss: 178.2073 - lr: 6.3096e-08\n",
      "Epoch 18/100\n",
      "11/11 [==============================] - 0s 23ms/step - loss: 178.1029 - lr: 7.0795e-08\n",
      "Epoch 19/100\n",
      "11/11 [==============================] - 0s 22ms/step - loss: 177.9854 - lr: 7.9433e-08\n",
      "Epoch 20/100\n",
      "11/11 [==============================] - 0s 21ms/step - loss: 177.8537 - lr: 8.9125e-08\n",
      "Epoch 21/100\n",
      "11/11 [==============================] - 0s 21ms/step - loss: 177.7055 - lr: 1.0000e-07\n",
      "Epoch 22/100\n",
      "11/11 [==============================] - 0s 21ms/step - loss: 177.5388 - lr: 1.1220e-07\n",
      "Epoch 23/100\n",
      "11/11 [==============================] - 0s 21ms/step - loss: 177.3529 - lr: 1.2589e-07\n",
      "Epoch 24/100\n",
      "11/11 [==============================] - 0s 23ms/step - loss: 177.1446 - lr: 1.4125e-07\n",
      "Epoch 25/100\n",
      "11/11 [==============================] - 0s 22ms/step - loss: 176.9096 - lr: 1.5849e-07\n",
      "Epoch 26/100\n",
      "11/11 [==============================] - 0s 23ms/step - loss: 176.6457 - lr: 1.7783e-07\n",
      "Epoch 27/100\n",
      "11/11 [==============================] - 0s 23ms/step - loss: 176.3501 - lr: 1.9953e-07\n",
      "Epoch 28/100\n",
      "11/11 [==============================] - 0s 23ms/step - loss: 176.0187 - lr: 2.2387e-07\n",
      "Epoch 29/100\n",
      "11/11 [==============================] - 0s 22ms/step - loss: 175.6454 - lr: 2.5119e-07\n",
      "Epoch 30/100\n",
      "11/11 [==============================] - 0s 21ms/step - loss: 175.2264 - lr: 2.8184e-07\n",
      "Epoch 31/100\n",
      "11/11 [==============================] - 0s 21ms/step - loss: 174.7564 - lr: 3.1623e-07\n",
      "Epoch 32/100\n",
      "11/11 [==============================] - 0s 22ms/step - loss: 174.2267 - lr: 3.5481e-07\n",
      "Epoch 33/100\n",
      "11/11 [==============================] - 0s 21ms/step - loss: 173.6350 - lr: 3.9811e-07\n",
      "Epoch 34/100\n",
      "11/11 [==============================] - 0s 22ms/step - loss: 172.9672 - lr: 4.4668e-07\n",
      "Epoch 35/100\n",
      "11/11 [==============================] - 0s 21ms/step - loss: 172.2172 - lr: 5.0119e-07\n",
      "Epoch 36/100\n",
      "11/11 [==============================] - 0s 23ms/step - loss: 171.3732 - lr: 5.6234e-07\n",
      "Epoch 37/100\n",
      "11/11 [==============================] - 0s 23ms/step - loss: 170.4233 - lr: 6.3096e-07\n",
      "Epoch 38/100\n",
      "11/11 [==============================] - 0s 21ms/step - loss: 169.3535 - lr: 7.0795e-07\n",
      "Epoch 39/100\n",
      "11/11 [==============================] - 0s 22ms/step - loss: 168.1475 - lr: 7.9433e-07\n",
      "Epoch 40/100\n",
      "11/11 [==============================] - 0s 21ms/step - loss: 166.7905 - lr: 8.9125e-07\n",
      "Epoch 41/100\n",
      "11/11 [==============================] - 0s 22ms/step - loss: 165.2602 - lr: 1.0000e-06\n",
      "Epoch 42/100\n",
      "11/11 [==============================] - 0s 22ms/step - loss: 163.5379 - lr: 1.1220e-06\n",
      "Epoch 43/100\n",
      "11/11 [==============================] - 0s 21ms/step - loss: 161.6007 - lr: 1.2589e-06\n",
      "Epoch 44/100\n",
      "11/11 [==============================] - 0s 21ms/step - loss: 159.4216 - lr: 1.4125e-06\n",
      "Epoch 45/100\n",
      "11/11 [==============================] - 0s 23ms/step - loss: 156.9638 - lr: 1.5849e-06\n",
      "Epoch 46/100\n",
      "11/11 [==============================] - 0s 22ms/step - loss: 154.2029 - lr: 1.7783e-06\n",
      "Epoch 47/100\n",
      "11/11 [==============================] - 0s 22ms/step - loss: 151.1023 - lr: 1.9953e-06\n",
      "Epoch 48/100\n",
      "11/11 [==============================] - 0s 21ms/step - loss: 147.6079 - lr: 2.2387e-06\n",
      "Epoch 49/100\n",
      "11/11 [==============================] - 0s 21ms/step - loss: 143.6857 - lr: 2.5119e-06\n",
      "Epoch 50/100\n",
      "11/11 [==============================] - 0s 22ms/step - loss: 139.2701 - lr: 2.8184e-06\n",
      "Epoch 51/100\n",
      "11/11 [==============================] - 0s 22ms/step - loss: 134.3189 - lr: 3.1623e-06\n",
      "Epoch 52/100\n",
      "11/11 [==============================] - 0s 22ms/step - loss: 128.7437 - lr: 3.5481e-06\n",
      "Epoch 53/100\n",
      "11/11 [==============================] - 0s 22ms/step - loss: 122.4876 - lr: 3.9811e-06\n",
      "Epoch 54/100\n",
      "11/11 [==============================] - 0s 24ms/step - loss: 115.4509 - lr: 4.4668e-06\n",
      "Epoch 55/100\n",
      "11/11 [==============================] - 0s 23ms/step - loss: 107.5295 - lr: 5.0119e-06\n",
      "Epoch 56/100\n",
      "11/11 [==============================] - 0s 24ms/step - loss: 98.6049 - lr: 5.6234e-06\n",
      "Epoch 57/100\n",
      "11/11 [==============================] - 0s 21ms/step - loss: 88.5609 - lr: 6.3096e-06\n",
      "Epoch 58/100\n",
      "11/11 [==============================] - 0s 21ms/step - loss: 77.2180 - lr: 7.0795e-06\n",
      "Epoch 59/100\n",
      "11/11 [==============================] - 0s 21ms/step - loss: 64.4902 - lr: 7.9433e-06\n",
      "Epoch 60/100\n",
      "11/11 [==============================] - 0s 22ms/step - loss: 50.2563 - lr: 8.9125e-06\n",
      "Epoch 61/100\n",
      "11/11 [==============================] - 0s 21ms/step - loss: 34.6455 - lr: 1.0000e-05\n",
      "Epoch 62/100\n",
      "11/11 [==============================] - 0s 21ms/step - loss: 20.4429 - lr: 1.1220e-05\n",
      "Epoch 63/100\n",
      "11/11 [==============================] - 0s 21ms/step - loss: 15.9638 - lr: 1.2589e-05\n",
      "Epoch 64/100\n",
      "11/11 [==============================] - 0s 22ms/step - loss: 14.0575 - lr: 1.4125e-05\n",
      "Epoch 65/100\n",
      "11/11 [==============================] - 0s 23ms/step - loss: 12.2352 - lr: 1.5849e-05\n",
      "Epoch 66/100\n",
      "11/11 [==============================] - 0s 23ms/step - loss: 11.0305 - lr: 1.7783e-05\n",
      "Epoch 67/100\n",
      "11/11 [==============================] - 0s 27ms/step - loss: 9.7564 - lr: 1.9953e-05\n",
      "Epoch 68/100\n",
      "11/11 [==============================] - 0s 26ms/step - loss: 8.8086 - lr: 2.2387e-05\n",
      "Epoch 69/100\n",
      "11/11 [==============================] - 0s 25ms/step - loss: 8.2111 - lr: 2.5119e-05\n",
      "Epoch 70/100\n",
      "11/11 [==============================] - 0s 26ms/step - loss: 7.7872 - lr: 2.8184e-05\n",
      "Epoch 71/100\n",
      "11/11 [==============================] - 0s 21ms/step - loss: 7.3964 - lr: 3.1623e-05\n",
      "Epoch 72/100\n",
      "11/11 [==============================] - 0s 22ms/step - loss: 7.0894 - lr: 3.5481e-05\n",
      "Epoch 73/100\n",
      "11/11 [==============================] - 0s 23ms/step - loss: 6.7782 - lr: 3.9811e-05\n",
      "Epoch 74/100\n",
      "11/11 [==============================] - 0s 22ms/step - loss: 6.4765 - lr: 4.4668e-05\n",
      "Epoch 75/100\n",
      "11/11 [==============================] - 0s 22ms/step - loss: 6.1224 - lr: 5.0119e-05\n",
      "Epoch 76/100\n",
      "11/11 [==============================] - 0s 21ms/step - loss: 5.8636 - lr: 5.6234e-05\n",
      "Epoch 77/100\n",
      "11/11 [==============================] - 0s 21ms/step - loss: 5.7228 - lr: 6.3096e-05\n",
      "Epoch 78/100\n",
      "11/11 [==============================] - 0s 21ms/step - loss: 5.4874 - lr: 7.0795e-05\n",
      "Epoch 79/100\n",
      "11/11 [==============================] - 0s 21ms/step - loss: 5.3788 - lr: 7.9433e-05\n",
      "Epoch 80/100\n",
      "11/11 [==============================] - 0s 22ms/step - loss: 5.3421 - lr: 8.9125e-05\n",
      "Epoch 81/100\n",
      "11/11 [==============================] - 0s 22ms/step - loss: 5.3183 - lr: 1.0000e-04\n",
      "Epoch 82/100\n"
     ]
    },
    {
     "name": "stdout",
     "output_type": "stream",
     "text": [
      "11/11 [==============================] - 0s 23ms/step - loss: 5.2612 - lr: 1.1220e-04\n",
      "Epoch 83/100\n",
      "11/11 [==============================] - 0s 21ms/step - loss: 5.2020 - lr: 1.2589e-04\n",
      "Epoch 84/100\n",
      "11/11 [==============================] - 0s 21ms/step - loss: 4.9653 - lr: 1.4125e-04\n",
      "Epoch 85/100\n",
      "11/11 [==============================] - 0s 21ms/step - loss: 4.6556 - lr: 1.5849e-04\n",
      "Epoch 86/100\n",
      "11/11 [==============================] - 0s 22ms/step - loss: 4.8759 - lr: 1.7783e-04\n",
      "Epoch 87/100\n",
      "11/11 [==============================] - 0s 21ms/step - loss: 5.0989 - lr: 1.9953e-04\n",
      "Epoch 88/100\n",
      "11/11 [==============================] - 0s 21ms/step - loss: 5.2100 - lr: 2.2387e-04\n",
      "Epoch 89/100\n",
      "11/11 [==============================] - 0s 21ms/step - loss: 5.7240 - lr: 2.5119e-04\n",
      "Epoch 90/100\n",
      "11/11 [==============================] - 0s 21ms/step - loss: 4.8976 - lr: 2.8184e-04\n",
      "Epoch 91/100\n",
      "11/11 [==============================] - 0s 22ms/step - loss: 4.5716 - lr: 3.1623e-04\n",
      "Epoch 92/100\n",
      "11/11 [==============================] - 0s 23ms/step - loss: 4.7794 - lr: 3.5481e-04\n",
      "Epoch 93/100\n",
      "11/11 [==============================] - 0s 21ms/step - loss: 6.6217 - lr: 3.9811e-04\n",
      "Epoch 94/100\n",
      "11/11 [==============================] - 0s 21ms/step - loss: 4.8778 - lr: 4.4668e-04\n",
      "Epoch 95/100\n",
      "11/11 [==============================] - 0s 21ms/step - loss: 4.1464 - lr: 5.0119e-04\n",
      "Epoch 96/100\n",
      "11/11 [==============================] - 0s 21ms/step - loss: 4.4708 - lr: 5.6234e-04\n",
      "Epoch 97/100\n",
      "11/11 [==============================] - 0s 21ms/step - loss: 5.3099 - lr: 6.3096e-04\n",
      "Epoch 98/100\n",
      "11/11 [==============================] - 0s 21ms/step - loss: 4.6969 - lr: 7.0795e-04\n",
      "Epoch 99/100\n",
      "11/11 [==============================] - 0s 21ms/step - loss: 7.9392 - lr: 7.9433e-04\n",
      "Epoch 100/100\n",
      "11/11 [==============================] - 0s 21ms/step - loss: 7.4380 - lr: 8.9125e-04\n"
     ]
    }
   ],
   "source": [
    "# Set the learning rate scheduler\n",
    "lr_schedule = tf.keras.callbacks.LearningRateScheduler(\n",
    "    lambda epoch: 1e-8 * 10**(epoch / 20))\n",
    "\n",
    "# Initialize the optimizer\n",
    "optimizer = tf.keras.optimizers.Adam()      #SGD(momentum=0.9)\n",
    "\n",
    "# Set the training parameters\n",
    "model1.compile(loss=tf.keras.losses.Huber(), optimizer=optimizer)\n",
    "\n",
    "# Train the model\n",
    "history = model1.fit(train_set, epochs=100, callbacks=[lr_schedule])"
   ]
  },
  {
   "cell_type": "code",
   "execution_count": 25,
   "id": "47c1680c",
   "metadata": {},
   "outputs": [
    {
     "data": {
      "image/png": "[encoded data removed]",
      "text/plain": [
       "<Figure size 720x432 with 1 Axes>"
      ]
     },
     "metadata": {
      "needs_background": "light"
     },
     "output_type": "display_data"
    }
   ],
   "source": [
    "# Define the learning rate array\n",
    "lrs = 1e-8 * (10 ** (np.arange(100) / 20))\n",
    "\n",
    "# Set the figure size\n",
    "plt.figure(figsize=(10, 6))\n",
    "\n",
    "# Set the grid\n",
    "plt.grid(True)\n",
    "\n",
    "# Plot the loss in log scale\n",
    "plt.semilogx(lrs, history.history[\"loss\"])\n",
    "\n",
    "# Increase the tickmarks size\n",
    "plt.tick_params('both', length=10, width=1, which='both')\n",
    "\n",
    "# Set the plot boundaries\n",
    "#plt.axis([1e-8, 1e-3, 0, 30])"
   ]
  },
  {
   "cell_type": "code",
   "execution_count": 26,
   "id": "61ca87d7",
   "metadata": {},
   "outputs": [],
   "source": [
    "tf.keras.backend.clear_session()"
   ]
  },
  {
   "cell_type": "code",
   "execution_count": 27,
   "id": "550f3b46",
   "metadata": {},
   "outputs": [],
   "source": [
    "optimizer = tf.keras.optimizers.Adam(learning_rate=1e-4)   #taking the learning rate from the above figure\n",
    "model1.compile(loss=tf.keras.losses.Huber(),\n",
    "              optimizer=optimizer,\n",
    "               metrics = ['mae']\n",
    "              )"
   ]
  },
  {
   "cell_type": "code",
   "execution_count": 28,
   "id": "962552c9",
   "metadata": {},
   "outputs": [
    {
     "name": "stdout",
     "output_type": "stream",
     "text": [
      "Epoch 1/100\n",
      "11/11 [==============================] - 7s 23ms/step - loss: 4.5359 - mae: 5.0072\n",
      "Epoch 2/100\n",
      "11/11 [==============================] - 0s 21ms/step - loss: 3.7997 - mae: 4.2732\n",
      "Epoch 3/100\n",
      "11/11 [==============================] - 0s 22ms/step - loss: 3.9006 - mae: 4.3781\n",
      "Epoch 4/100\n",
      "11/11 [==============================] - 0s 22ms/step - loss: 4.2713 - mae: 4.7513\n",
      "Epoch 5/100\n",
      "11/11 [==============================] - 0s 21ms/step - loss: 3.9155 - mae: 4.3919\n",
      "Epoch 6/100\n",
      "11/11 [==============================] - 0s 21ms/step - loss: 4.5779 - mae: 5.0602\n",
      "Epoch 7/100\n",
      "11/11 [==============================] - 0s 22ms/step - loss: 3.9892 - mae: 4.4613\n",
      "Epoch 8/100\n",
      "11/11 [==============================] - 0s 21ms/step - loss: 3.3513 - mae: 3.8089\n",
      "Epoch 9/100\n",
      "11/11 [==============================] - 0s 21ms/step - loss: 3.3021 - mae: 3.7638\n",
      "Epoch 10/100\n",
      "11/11 [==============================] - 0s 21ms/step - loss: 3.2673 - mae: 3.7295\n",
      "Epoch 11/100\n",
      "11/11 [==============================] - 0s 21ms/step - loss: 3.4709 - mae: 3.9398\n",
      "Epoch 12/100\n",
      "11/11 [==============================] - 0s 23ms/step - loss: 3.2545 - mae: 3.7127\n",
      "Epoch 13/100\n",
      "11/11 [==============================] - 0s 22ms/step - loss: 3.3051 - mae: 3.7699\n",
      "Epoch 14/100\n",
      "11/11 [==============================] - 0s 22ms/step - loss: 3.2210 - mae: 3.6757\n",
      "Epoch 15/100\n",
      "11/11 [==============================] - 0s 22ms/step - loss: 3.3777 - mae: 3.8323\n",
      "Epoch 16/100\n",
      "11/11 [==============================] - 0s 21ms/step - loss: 3.4764 - mae: 3.9367\n",
      "Epoch 17/100\n",
      "11/11 [==============================] - 0s 21ms/step - loss: 3.9608 - mae: 4.4359\n",
      "Epoch 18/100\n",
      "11/11 [==============================] - 0s 21ms/step - loss: 4.8288 - mae: 5.3121\n",
      "Epoch 19/100\n",
      "11/11 [==============================] - 0s 21ms/step - loss: 4.0152 - mae: 4.4868\n",
      "Epoch 20/100\n",
      "11/11 [==============================] - 0s 22ms/step - loss: 3.5115 - mae: 3.9702\n",
      "Epoch 21/100\n",
      "11/11 [==============================] - 0s 21ms/step - loss: 3.4918 - mae: 3.9553\n",
      "Epoch 22/100\n",
      "11/11 [==============================] - 0s 22ms/step - loss: 3.8002 - mae: 4.2700\n",
      "Epoch 23/100\n",
      "11/11 [==============================] - 0s 23ms/step - loss: 3.7812 - mae: 4.2477\n",
      "Epoch 24/100\n",
      "11/11 [==============================] - 0s 21ms/step - loss: 4.3299 - mae: 4.8083\n",
      "Epoch 25/100\n",
      "11/11 [==============================] - 0s 21ms/step - loss: 4.4233 - mae: 4.9010\n",
      "Epoch 26/100\n",
      "11/11 [==============================] - 0s 21ms/step - loss: 3.7008 - mae: 4.1775\n",
      "Epoch 27/100\n",
      "11/11 [==============================] - 0s 21ms/step - loss: 3.4512 - mae: 3.9079\n",
      "Epoch 28/100\n",
      "11/11 [==============================] - 0s 22ms/step - loss: 3.3244 - mae: 3.7841\n",
      "Epoch 29/100\n",
      "11/11 [==============================] - 0s 21ms/step - loss: 3.5845 - mae: 4.0515\n",
      "Epoch 30/100\n",
      "11/11 [==============================] - 0s 23ms/step - loss: 3.5516 - mae: 4.0215\n",
      "Epoch 31/100\n",
      "11/11 [==============================] - 0s 22ms/step - loss: 3.3089 - mae: 3.7778\n",
      "Epoch 32/100\n",
      "11/11 [==============================] - 0s 23ms/step - loss: 3.8529 - mae: 4.3291\n",
      "Epoch 33/100\n",
      "11/11 [==============================] - 0s 22ms/step - loss: 3.1703 - mae: 3.6283\n",
      "Epoch 34/100\n",
      "11/11 [==============================] - 0s 21ms/step - loss: 3.2374 - mae: 3.6943\n",
      "Epoch 35/100\n",
      "11/11 [==============================] - 0s 21ms/step - loss: 4.1007 - mae: 4.5853\n",
      "Epoch 36/100\n",
      "11/11 [==============================] - 0s 22ms/step - loss: 3.1906 - mae: 3.6483\n",
      "Epoch 37/100\n",
      "11/11 [==============================] - 0s 21ms/step - loss: 3.2311 - mae: 3.6880\n",
      "Epoch 38/100\n",
      "11/11 [==============================] - 0s 21ms/step - loss: 3.1821 - mae: 3.6439\n",
      "Epoch 39/100\n",
      "11/11 [==============================] - 0s 21ms/step - loss: 3.1267 - mae: 3.5864\n",
      "Epoch 40/100\n",
      "11/11 [==============================] - 0s 22ms/step - loss: 3.3043 - mae: 3.7673\n",
      "Epoch 41/100\n",
      "11/11 [==============================] - 0s 23ms/step - loss: 3.4409 - mae: 3.9133\n",
      "Epoch 42/100\n",
      "11/11 [==============================] - 0s 22ms/step - loss: 3.3419 - mae: 3.7988\n",
      "Epoch 43/100\n",
      "11/11 [==============================] - 0s 21ms/step - loss: 3.3355 - mae: 3.7990\n",
      "Epoch 44/100\n",
      "11/11 [==============================] - 0s 21ms/step - loss: 4.4924 - mae: 4.9758\n",
      "Epoch 45/100\n",
      "11/11 [==============================] - 0s 22ms/step - loss: 3.6825 - mae: 4.1598\n",
      "Epoch 46/100\n",
      "11/11 [==============================] - 0s 21ms/step - loss: 3.5836 - mae: 4.0496\n",
      "Epoch 47/100\n",
      "11/11 [==============================] - 0s 21ms/step - loss: 3.8415 - mae: 4.3151\n",
      "Epoch 48/100\n",
      "11/11 [==============================] - 0s 21ms/step - loss: 4.1291 - mae: 4.6060\n",
      "Epoch 49/100\n",
      "11/11 [==============================] - 0s 22ms/step - loss: 3.6253 - mae: 4.0900\n",
      "Epoch 50/100\n",
      "11/11 [==============================] - 0s 23ms/step - loss: 3.5119 - mae: 3.9833\n",
      "Epoch 51/100\n",
      "11/11 [==============================] - 0s 22ms/step - loss: 3.5698 - mae: 4.0404\n",
      "Epoch 52/100\n",
      "11/11 [==============================] - 0s 22ms/step - loss: 3.5668 - mae: 4.0427\n",
      "Epoch 53/100\n",
      "11/11 [==============================] - 0s 21ms/step - loss: 3.1427 - mae: 3.5976\n",
      "Epoch 54/100\n",
      "11/11 [==============================] - 0s 21ms/step - loss: 3.1041 - mae: 3.5624\n",
      "Epoch 55/100\n",
      "11/11 [==============================] - 0s 21ms/step - loss: 3.1371 - mae: 3.5994\n",
      "Epoch 56/100\n",
      "11/11 [==============================] - 0s 21ms/step - loss: 3.4218 - mae: 3.8945\n",
      "Epoch 57/100\n",
      "11/11 [==============================] - 0s 21ms/step - loss: 3.4370 - mae: 3.9061\n",
      "Epoch 58/100\n",
      "11/11 [==============================] - 0s 21ms/step - loss: 3.5915 - mae: 4.0696\n",
      "Epoch 59/100\n",
      "11/11 [==============================] - 0s 23ms/step - loss: 3.3685 - mae: 3.8396\n",
      "Epoch 60/100\n",
      "11/11 [==============================] - 0s 22ms/step - loss: 3.3258 - mae: 3.7912\n",
      "Epoch 61/100\n",
      "11/11 [==============================] - 0s 22ms/step - loss: 3.7797 - mae: 4.2555\n",
      "Epoch 62/100\n",
      "11/11 [==============================] - 0s 21ms/step - loss: 3.7331 - mae: 4.2131\n",
      "Epoch 63/100\n",
      "11/11 [==============================] - 0s 21ms/step - loss: 4.5815 - mae: 5.0622\n",
      "Epoch 64/100\n",
      "11/11 [==============================] - 0s 21ms/step - loss: 3.2556 - mae: 3.7210\n",
      "Epoch 65/100\n",
      "11/11 [==============================] - 0s 21ms/step - loss: 3.6037 - mae: 4.0699\n",
      "Epoch 66/100\n",
      "11/11 [==============================] - 0s 21ms/step - loss: 3.1795 - mae: 3.6366\n",
      "Epoch 67/100\n",
      "11/11 [==============================] - 0s 21ms/step - loss: 3.4865 - mae: 3.9499\n",
      "Epoch 68/100\n",
      "11/11 [==============================] - 0s 21ms/step - loss: 3.2680 - mae: 3.7258\n",
      "Epoch 69/100\n",
      "11/11 [==============================] - 0s 22ms/step - loss: 3.4296 - mae: 3.8934\n",
      "Epoch 70/100\n",
      "11/11 [==============================] - 0s 22ms/step - loss: 3.2129 - mae: 3.6738\n",
      "Epoch 71/100\n",
      "11/11 [==============================] - 0s 21ms/step - loss: 3.3177 - mae: 3.7856\n",
      "Epoch 72/100\n",
      "11/11 [==============================] - 0s 21ms/step - loss: 3.3121 - mae: 3.7717\n",
      "Epoch 73/100\n",
      "11/11 [==============================] - 0s 22ms/step - loss: 3.2457 - mae: 3.7022\n",
      "Epoch 74/100\n",
      "11/11 [==============================] - 0s 21ms/step - loss: 3.3471 - mae: 3.8132\n",
      "Epoch 75/100\n",
      "11/11 [==============================] - 0s 21ms/step - loss: 3.1857 - mae: 3.6458\n",
      "Epoch 76/100\n",
      "11/11 [==============================] - 0s 21ms/step - loss: 3.2598 - mae: 3.7152\n",
      "Epoch 77/100\n",
      "11/11 [==============================] - 0s 21ms/step - loss: 3.5267 - mae: 3.9979\n",
      "Epoch 78/100\n",
      "11/11 [==============================] - 0s 23ms/step - loss: 3.1404 - mae: 3.5894\n",
      "Epoch 79/100\n",
      "11/11 [==============================] - 0s 22ms/step - loss: 3.3237 - mae: 3.7896\n",
      "Epoch 80/100\n",
      "11/11 [==============================] - 0s 22ms/step - loss: 3.7394 - mae: 4.2064\n",
      "Epoch 81/100\n",
      "11/11 [==============================] - 0s 21ms/step - loss: 3.6102 - mae: 4.0700\n",
      "Epoch 82/100\n",
      "11/11 [==============================] - 0s 23ms/step - loss: 3.2531 - mae: 3.7136\n",
      "Epoch 83/100\n",
      "11/11 [==============================] - 0s 21ms/step - loss: 3.5028 - mae: 3.9712\n",
      "Epoch 84/100\n",
      "11/11 [==============================] - 0s 22ms/step - loss: 3.3385 - mae: 3.8015\n",
      "Epoch 85/100\n",
      "11/11 [==============================] - 0s 21ms/step - loss: 3.4780 - mae: 3.9468\n",
      "Epoch 86/100\n"
     ]
    },
    {
     "name": "stdout",
     "output_type": "stream",
     "text": [
      "11/11 [==============================] - 0s 22ms/step - loss: 3.6419 - mae: 4.1046\n",
      "Epoch 87/100\n",
      "11/11 [==============================] - 0s 21ms/step - loss: 4.0757 - mae: 4.5536\n",
      "Epoch 88/100\n",
      "11/11 [==============================] - 0s 22ms/step - loss: 3.9163 - mae: 4.3890\n",
      "Epoch 89/100\n",
      "11/11 [==============================] - 0s 22ms/step - loss: 3.1424 - mae: 3.6067\n",
      "Epoch 90/100\n",
      "11/11 [==============================] - 0s 21ms/step - loss: 3.2178 - mae: 3.6773\n",
      "Epoch 91/100\n",
      "11/11 [==============================] - 0s 21ms/step - loss: 3.3532 - mae: 3.8144\n",
      "Epoch 92/100\n",
      "11/11 [==============================] - 0s 21ms/step - loss: 3.9453 - mae: 4.4220\n",
      "Epoch 93/100\n",
      "11/11 [==============================] - 0s 21ms/step - loss: 4.6741 - mae: 5.1493\n",
      "Epoch 94/100\n",
      "11/11 [==============================] - 0s 21ms/step - loss: 3.4388 - mae: 3.9115\n",
      "Epoch 95/100\n",
      "11/11 [==============================] - 0s 22ms/step - loss: 3.2497 - mae: 3.7122\n",
      "Epoch 96/100\n",
      "11/11 [==============================] - 0s 21ms/step - loss: 3.4629 - mae: 3.9256\n",
      "Epoch 97/100\n",
      "11/11 [==============================] - 0s 22ms/step - loss: 4.5100 - mae: 4.9942\n",
      "Epoch 98/100\n",
      "11/11 [==============================] - 0s 23ms/step - loss: 3.3185 - mae: 3.7693\n",
      "Epoch 99/100\n",
      "11/11 [==============================] - 0s 22ms/step - loss: 3.2047 - mae: 3.6619\n",
      "Epoch 100/100\n",
      "11/11 [==============================] - 0s 21ms/step - loss: 3.5780 - mae: 4.0507\n"
     ]
    }
   ],
   "source": [
    "history = model1.fit(train_set,epochs=100)"
   ]
  },
  {
   "cell_type": "code",
   "execution_count": 29,
   "id": "b54e3f52",
   "metadata": {},
   "outputs": [
    {
     "data": {
      "text/plain": [
       "[<matplotlib.lines.Line2D at 0x2105d7fe4f0>]"
      ]
     },
     "execution_count": 29,
     "metadata": {},
     "output_type": "execute_result"
    },
    {
     "data": {
      "image/png": "[encoded data removed]",
      "text/plain": [
       "<Figure size 432x288 with 1 Axes>"
      ]
     },
     "metadata": {
      "needs_background": "light"
     },
     "output_type": "display_data"
    }
   ],
   "source": [
    "plt.plot(history.history['mae'])"
   ]
  },
  {
   "cell_type": "markdown",
   "id": "42c19900",
   "metadata": {},
   "source": [
    "## Forecasting on test data"
   ]
  },
  {
   "cell_type": "code",
   "execution_count": 30,
   "id": "897e9adc",
   "metadata": {},
   "outputs": [],
   "source": [
    "def model_forecast(model, series, window_size, batch_size):\n",
    "    \"\"\"Uses an input model to generate predictions on data windows\n",
    "\n",
    "    Args:\n",
    "      model (TF Keras Model) - model that accepts data windows\n",
    "      series (array of float) - contains the values of the time series\n",
    "      window_size (int) - the number of time steps to include in the window\n",
    "      batch_size (int) - the batch size\n",
    "\n",
    "    Returns:\n",
    "      forecast (numpy array) - array containing predictions\n",
    "    \"\"\"\n",
    "\n",
    "    # Generate a TF Dataset from the series values\n",
    "    dataset = tf.data.Dataset.from_tensor_slices(series)\n",
    "\n",
    "    # Window the data but only take those with the specified size\n",
    "    dataset = dataset.window(window_size, shift=1, drop_remainder=True)\n",
    "\n",
    "    # Flatten the windows by putting its elements in a single batch\n",
    "    dataset = dataset.flat_map(lambda w: w.batch(window_size))\n",
    "    \n",
    "    # Create batches of windows\n",
    "    dataset = dataset.batch(batch_size).prefetch(1)\n",
    "    \n",
    "    # Get predictions on the entire dataset\n",
    "    forecast = model.predict(dataset)\n",
    "    \n",
    "    return forecast"
   ]
  },
  {
   "cell_type": "code",
   "execution_count": 31,
   "id": "a39e7f65",
   "metadata": {},
   "outputs": [],
   "source": [
    "forecast_series = y[split_time-window_size:-1]"
   ]
  },
  {
   "cell_type": "code",
   "execution_count": 32,
   "id": "093e1993",
   "metadata": {},
   "outputs": [],
   "source": [
    "forecast = model_forecast(model1, forecast_series, window_size, batch_size)"
   ]
  },
  {
   "cell_type": "code",
   "execution_count": 33,
   "id": "d74962f9",
   "metadata": {},
   "outputs": [
    {
     "data": {
      "text/plain": [
       "(368, 1)"
      ]
     },
     "execution_count": 33,
     "metadata": {},
     "output_type": "execute_result"
    }
   ],
   "source": [
    "forecast.shape"
   ]
  },
  {
   "cell_type": "markdown",
   "id": "9773c8f5",
   "metadata": {},
   "source": [
    "## Plotting results"
   ]
  },
  {
   "cell_type": "code",
   "execution_count": 34,
   "id": "36b25592",
   "metadata": {},
   "outputs": [
    {
     "data": {
      "image/png": "[encoded data removed]",
      "text/plain": [
       "<Figure size 432x288 with 1 Axes>"
      ]
     },
     "metadata": {
      "needs_background": "light"
     },
     "output_type": "display_data"
    }
   ],
   "source": [
    "results = forecast.squeeze()\n",
    "plt.plot(time_valid,x_valid,label=\"Test data\")\n",
    "plt.plot(time_valid,results,label=\"Predicted value\")\n",
    "plt.xlabel('Days')\n",
    "plt.ylabel('Power consumption (kW)')\n",
    "plt.title('Test vs Predicted data')\n",
    "plt.legend()\n",
    "plt.show()"
   ]
  },
  {
   "cell_type": "code",
   "execution_count": 35,
   "id": "1da2c595",
   "metadata": {},
   "outputs": [
    {
     "name": "stdout",
     "output_type": "stream",
     "text": [
      "3.9113896\n"
     ]
    }
   ],
   "source": [
    "print(tf.keras.metrics.mean_absolute_error(x_valid, results).numpy())"
   ]
  },
  {
   "cell_type": "code",
   "execution_count": null,
   "id": "7b218a77",
   "metadata": {},
   "outputs": [],
   "source": []
  }
 ],
 "metadata": {
  "kernelspec": {
   "display_name": "Python 3",
   "language": "python",
   "name": "python3"
  },
  "language_info": {
   "codemirror_mode": {
    "name": "ipython",
    "version": 3
   },
   "file_extension": ".py",
   "mimetype": "text/x-python",
   "name": "python",
   "nbconvert_exporter": "python",
   "pygments_lexer": "ipython3",
   "version": "3.8.8"
  }
 },
 "nbformat": 4,
 "nbformat_minor": 5
}
